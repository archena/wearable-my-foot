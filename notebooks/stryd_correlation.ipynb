{
 "cells": [
  {
   "cell_type": "code",
   "execution_count": 1,
   "metadata": {},
   "outputs": [],
   "source": [
    "from fitparse import FitFile\n",
    "import seaborn as sns\n",
    "import matplotlib.pyplot as plt\n",
    "import pandas as pd\n",
    "from sklearn.linear_model import LinearRegression, Ridge, Lasso\n",
    "from sklearn.neural_network import MLPRegressor\n",
    "from sklearn.preprocessing import PolynomialFeatures, StandardScaler\n",
    "from sklearn.model_selection import train_test_split, cross_validate\n",
    "from sklearn.metrics import mean_absolute_error\n",
    "import numpy as np"
   ]
  },
  {
   "cell_type": "markdown",
   "metadata": {},
   "source": [
    "Import .fit file as pandas data frame"
   ]
  },
  {
   "cell_type": "code",
   "execution_count": 2,
   "metadata": {},
   "outputs": [],
   "source": [
    "fit = FitFile(\"../data/Stryd 68kg 181cm backgarden 1km.fit\")\n",
    "# fit = FitFile(\"../data/stryd-up-n-down.fit\")\n",
    "\n",
    "def record_to_series(record):\n",
    "    return pd.Series({f.name: f.value for f in record.fields})\n",
    "\n",
    "df = pd.DataFrame([record_to_series(record) for record in fit.get_messages(\"record\")]).drop([\"position_lat\", \"position_long\", \"distance\", \"heart_rate\", \"enhanced_altitude\", \"enhanced_speed\", \"speed\", \"Form Power\"], axis=1)"
   ]
  },
  {
   "cell_type": "markdown",
   "metadata": {},
   "source": [
    "Absolute altitude and distance are not useful for our purposes. However, changes of altitude and distance over time might be important features. "
   ]
  },
  {
   "cell_type": "code",
   "execution_count": 3,
   "metadata": {},
   "outputs": [],
   "source": [
    "df.loc[:,\"altitude_diff\"] = df.altitude.diff()\n",
    "df.loc[:,\"distance_diff\"] = df.Distance.diff()\n",
    "df.drop([\"altitude\", \"Distance\"], axis=1, inplace=True)\n",
    "df = df.dropna()"
   ]
  },
  {
   "cell_type": "markdown",
   "metadata": {},
   "source": [
    "# Correlation\n",
    "\n",
    "We explore what features correlate to power -- our target variable\n",
    "\n",
    "Observations:\n",
    "* The strongest positive correlations to power can be seen for cadence, vertical oscillation \\[amplitude\\], leg spring stiffness and speed.\n",
    "* Air power shows strong negative correlation with changes in altitude (probably due to the direction of the wind)\n",
    "\n",
    "TODO remove silence\n"
   ]
  },
  {
   "cell_type": "code",
   "execution_count": 4,
   "metadata": {
    "scrolled": false
   },
   "outputs": [
    {
     "data": {
      "text/html": [
       "<div>\n",
       "<style scoped>\n",
       "    .dataframe tbody tr th:only-of-type {\n",
       "        vertical-align: middle;\n",
       "    }\n",
       "\n",
       "    .dataframe tbody tr th {\n",
       "        vertical-align: top;\n",
       "    }\n",
       "\n",
       "    .dataframe thead th {\n",
       "        text-align: right;\n",
       "    }\n",
       "</style>\n",
       "<table border=\"1\" class=\"dataframe\">\n",
       "  <thead>\n",
       "    <tr style=\"text-align: right;\">\n",
       "      <th></th>\n",
       "      <th>power</th>\n",
       "      <th>cadence</th>\n",
       "      <th>vertical_oscillation</th>\n",
       "      <th>stance_time</th>\n",
       "      <th>Air Power</th>\n",
       "      <th>Leg Spring Stiffness</th>\n",
       "      <th>Speed</th>\n",
       "      <th>altitude_diff</th>\n",
       "      <th>distance_diff</th>\n",
       "    </tr>\n",
       "  </thead>\n",
       "  <tbody>\n",
       "    <tr>\n",
       "      <th>count</th>\n",
       "      <td>398.000000</td>\n",
       "      <td>398.000000</td>\n",
       "      <td>398.000000</td>\n",
       "      <td>398.000000</td>\n",
       "      <td>398.000000</td>\n",
       "      <td>398.000000</td>\n",
       "      <td>398.000000</td>\n",
       "      <td>398.000000</td>\n",
       "      <td>398.000000</td>\n",
       "    </tr>\n",
       "    <tr>\n",
       "      <th>mean</th>\n",
       "      <td>196.077889</td>\n",
       "      <td>68.384422</td>\n",
       "      <td>67.505025</td>\n",
       "      <td>234.989950</td>\n",
       "      <td>2.150754</td>\n",
       "      <td>7.292714</td>\n",
       "      <td>2.657310</td>\n",
       "      <td>0.006533</td>\n",
       "      <td>2.608040</td>\n",
       "    </tr>\n",
       "    <tr>\n",
       "      <th>std</th>\n",
       "      <td>95.118944</td>\n",
       "      <td>31.321289</td>\n",
       "      <td>37.002672</td>\n",
       "      <td>137.811008</td>\n",
       "      <td>1.852872</td>\n",
       "      <td>4.206613</td>\n",
       "      <td>1.311730</td>\n",
       "      <td>0.116444</td>\n",
       "      <td>1.839159</td>\n",
       "    </tr>\n",
       "    <tr>\n",
       "      <th>min</th>\n",
       "      <td>0.000000</td>\n",
       "      <td>0.000000</td>\n",
       "      <td>0.000000</td>\n",
       "      <td>0.000000</td>\n",
       "      <td>0.000000</td>\n",
       "      <td>0.000000</td>\n",
       "      <td>0.000000</td>\n",
       "      <td>-0.400000</td>\n",
       "      <td>0.000000</td>\n",
       "    </tr>\n",
       "    <tr>\n",
       "      <th>25%</th>\n",
       "      <td>193.000000</td>\n",
       "      <td>80.000000</td>\n",
       "      <td>74.000000</td>\n",
       "      <td>234.000000</td>\n",
       "      <td>1.000000</td>\n",
       "      <td>4.750000</td>\n",
       "      <td>2.579102</td>\n",
       "      <td>0.000000</td>\n",
       "      <td>2.000000</td>\n",
       "    </tr>\n",
       "    <tr>\n",
       "      <th>50%</th>\n",
       "      <td>227.500000</td>\n",
       "      <td>83.000000</td>\n",
       "      <td>81.000000</td>\n",
       "      <td>250.000000</td>\n",
       "      <td>2.000000</td>\n",
       "      <td>9.500000</td>\n",
       "      <td>3.097656</td>\n",
       "      <td>0.000000</td>\n",
       "      <td>2.000000</td>\n",
       "    </tr>\n",
       "    <tr>\n",
       "      <th>75%</th>\n",
       "      <td>252.000000</td>\n",
       "      <td>83.000000</td>\n",
       "      <td>84.000000</td>\n",
       "      <td>265.500000</td>\n",
       "      <td>3.000000</td>\n",
       "      <td>9.875000</td>\n",
       "      <td>3.354492</td>\n",
       "      <td>0.000000</td>\n",
       "      <td>4.000000</td>\n",
       "    </tr>\n",
       "    <tr>\n",
       "      <th>max</th>\n",
       "      <td>374.000000</td>\n",
       "      <td>97.000000</td>\n",
       "      <td>169.000000</td>\n",
       "      <td>968.000000</td>\n",
       "      <td>9.000000</td>\n",
       "      <td>11.625000</td>\n",
       "      <td>5.515625</td>\n",
       "      <td>0.200000</td>\n",
       "      <td>7.000000</td>\n",
       "    </tr>\n",
       "  </tbody>\n",
       "</table>\n",
       "</div>"
      ],
      "text/plain": [
       "            power     cadence  vertical_oscillation  stance_time   Air Power  \\\n",
       "count  398.000000  398.000000            398.000000   398.000000  398.000000   \n",
       "mean   196.077889   68.384422             67.505025   234.989950    2.150754   \n",
       "std     95.118944   31.321289             37.002672   137.811008    1.852872   \n",
       "min      0.000000    0.000000              0.000000     0.000000    0.000000   \n",
       "25%    193.000000   80.000000             74.000000   234.000000    1.000000   \n",
       "50%    227.500000   83.000000             81.000000   250.000000    2.000000   \n",
       "75%    252.000000   83.000000             84.000000   265.500000    3.000000   \n",
       "max    374.000000   97.000000            169.000000   968.000000    9.000000   \n",
       "\n",
       "       Leg Spring Stiffness       Speed  altitude_diff  distance_diff  \n",
       "count            398.000000  398.000000     398.000000     398.000000  \n",
       "mean               7.292714    2.657310       0.006533       2.608040  \n",
       "std                4.206613    1.311730       0.116444       1.839159  \n",
       "min                0.000000    0.000000      -0.400000       0.000000  \n",
       "25%                4.750000    2.579102       0.000000       2.000000  \n",
       "50%                9.500000    3.097656       0.000000       2.000000  \n",
       "75%                9.875000    3.354492       0.000000       4.000000  \n",
       "max               11.625000    5.515625       0.200000       7.000000  "
      ]
     },
     "metadata": {},
     "output_type": "display_data"
    },
    {
     "data": {
      "image/png": "[encoded data removed]",
      "text/plain": [
       "<Figure size 432x288 with 2 Axes>"
      ]
     },
     "metadata": {
      "needs_background": "light"
     },
     "output_type": "display_data"
    }
   ],
   "source": [
    "display(df.describe())\n",
    "sns.heatmap(df.corr(), cmap=\"RdBu\", center=0.0)\n",
    "plt.show()"
   ]
  },
  {
   "cell_type": "markdown",
   "metadata": {},
   "source": [
    "# Modelling\n",
    "## Helper functions\n",
    "\n",
    "For the purpose of our experiments we perform 5-fold cross validation, to get less biased performance metrics."
   ]
  },
  {
   "cell_type": "code",
   "execution_count": 5,
   "metadata": {},
   "outputs": [],
   "source": [
    "def get_cv_stats(reg, X, y, name=\"\"):\n",
    "    cv = pd.DataFrame(cross_validate(reg, X, y, scoring=['r2', 'neg_mean_absolute_error']))\n",
    "    return pd.Series({\n",
    "        \"mae_mean\": cv.test_neg_mean_absolute_error.mean(),\n",
    "        \"mae_std\": cv.test_neg_mean_absolute_error.std(),\n",
    "        \"r2_mean\": cv.test_r2.mean(),\n",
    "        \"r2_std\": cv.test_r2.std(),\n",
    "    }, name=name)\n",
    "\n",
    "def get_cv_mae(reg_class, alpha, X, y):\n",
    "    reg = reg_class(alpha=alpha)\n",
    "    return get_cv_stats(reg, X, y).mae_mean"
   ]
  },
  {
   "cell_type": "markdown",
   "metadata": {},
   "source": [
    "## Preprocessing\n",
    "* Separate the features (`X`) and the target (`y`)\n",
    "* Some ML models benefit from features being uniformly scaled, hence Standard Scaler is applied (`X_scaled` and `y_scaled`)\n",
    "* From physical models, we know that power is not related to speed linearly, but rather to a square of speed. Therefore, we can transform our features into combinations of polynomial terms (with degree up to 2) -- `X_polynomial`\n",
    "* In addition, `X_selected` contains hand picked features. Cadence, vertical oscillation, stance time and speed are the features that can be approximated from accelerometer data, and should be relevant for power calculations."
   ]
  },
  {
   "cell_type": "code",
   "execution_count": 6,
   "metadata": {},
   "outputs": [],
   "source": [
    "X = df.iloc[:,2:]\n",
    "X_scaled = pd.DataFrame(StandardScaler().fit_transform(X), columns=X.columns)\n",
    "X_selected = X_scaled.loc[:,[\"cadence\", \"vertical_oscillation\", \"stance_time\", \"Speed\"]]\n",
    "\n",
    "poly_features = PolynomialFeatures(degree=2, include_bias=False)\n",
    "X_polynomial = poly_features.fit_transform(X_scaled)\n",
    "feature_names = list(poly_features.get_feature_names())\n",
    "for i, x in enumerate(X.columns):\n",
    "    feature_names = [y.replace(f\"x{i}\", x) for y in feature_names]\n",
    "X_polynomial = pd.DataFrame(X_polynomial, columns=feature_names)\n",
    "\n",
    "y = df.iloc[:,1]\n",
    "y_scaled = StandardScaler().fit_transform(y.values.reshape(-1,1)).reshape(-1,)\n",
    "# y_scaled = StandardScaler().fit_transform(y)"
   ]
  },
  {
   "cell_type": "markdown",
   "metadata": {},
   "source": [
    "## Linear Regression\n",
    "It's the simplest regression model, that fits `y=sum(w_i * x_i) + b` minimising sum of square difference between the predicted and the target values.\n",
    "\n",
    "Note on the performance metrics:\n",
    "* Negative mean absolute error (MAE) -- higher values (or lower absolute values) are better\n",
    "* R^2 score -- coefficient of determination, a proportion of the target variance that can be predicted from the input features. Values closer to 1.0 are better\n",
    "\n",
    "Fitting the regression with the basic set of features, does a good job, with R^2 of 0.803"
   ]
  },
  {
   "cell_type": "code",
   "execution_count": 7,
   "metadata": {},
   "outputs": [
    {
     "data": {
      "text/plain": [
       "mae_mean   -0.151143\n",
       "mae_std     0.042484\n",
       "r2_mean     0.803620\n",
       "r2_std      0.324110\n",
       "Name: Linear, dtype: float64"
      ]
     },
     "execution_count": 7,
     "metadata": {},
     "output_type": "execute_result"
    }
   ],
   "source": [
    "lr_naive_cv_summary = get_cv_stats(LinearRegression(), X_scaled, y_scaled, \"Linear\")\n",
    "lr_naive_cv_summary"
   ]
  },
  {
   "cell_type": "markdown",
   "metadata": {},
   "source": [
    "Fitting with only the selected features makes the performance worse (even though not greatly), with R^2 of 0.772"
   ]
  },
  {
   "cell_type": "code",
   "execution_count": 8,
   "metadata": {},
   "outputs": [
    {
     "data": {
      "text/plain": [
       "mae_mean   -0.157931\n",
       "mae_std     0.055153\n",
       "r2_mean     0.772471\n",
       "r2_std      0.370952\n",
       "Name: Linear (selected), dtype: float64"
      ]
     },
     "execution_count": 8,
     "metadata": {},
     "output_type": "execute_result"
    }
   ],
   "source": [
    "lr_manual_cv_summary = get_cv_stats(LinearRegression(), X_selected, y_scaled, \"Linear (selected)\")\n",
    "lr_manual_cv_summary"
   ]
  },
  {
   "cell_type": "markdown",
   "metadata": {},
   "source": [
    "Using the polynomial features, the performance gets even worse with R^2 of 0.691"
   ]
  },
  {
   "cell_type": "code",
   "execution_count": 9,
   "metadata": {},
   "outputs": [
    {
     "data": {
      "text/plain": [
       "mae_mean   -0.233588\n",
       "mae_std     0.065597\n",
       "r2_mean     0.690869\n",
       "r2_std      0.295533\n",
       "Name: Linear (polynomial), dtype: float64"
      ]
     },
     "execution_count": 9,
     "metadata": {},
     "output_type": "execute_result"
    }
   ],
   "source": [
    "lr_poly_cv_summary = get_cv_stats(LinearRegression(), X_polynomial, y_scaled, \"Linear (polynomial)\")\n",
    "lr_poly_cv_summary"
   ]
  },
  {
   "cell_type": "markdown",
   "metadata": {},
   "source": [
    "## Ridge regression\n",
    "Ridge regression can be used to attempt improving performance of the ordinary linear regression. In addition to minimising the square error, Ridge introduces a penalty for the size of the coefficients (L2 regularisation).\n",
    "\n",
    "As opposed to the ordinary Linear Regression, Ridge requires a parameter for weight penalty (alpha). We try a range of different alpha values, and pick one that gives the best MAE on cross-validation.\n",
    "\n",
    "However, we can see that any alpha greater than 0, decreases the performance of a model fitted on the original set of features.  "
   ]
  },
  {
   "cell_type": "code",
   "execution_count": 10,
   "metadata": {},
   "outputs": [
    {
     "data": {
      "text/plain": [
       "<AxesSubplot:>"
      ]
     },
     "execution_count": 10,
     "metadata": {},
     "output_type": "execute_result"
    },
    {
     "data": {
      "image/png": "[encoded data removed]",
      "text/plain": [
       "<Figure size 432x288 with 1 Axes>"
      ]
     },
     "metadata": {
      "needs_background": "light"
     },
     "output_type": "display_data"
    }
   ],
   "source": [
    "alpha = np.arange(0.1,3.0,0.1)\n",
    "mae = [get_cv_mae(Ridge, x, X_scaled, y) for x in alpha]\n",
    "sns.lineplot(alpha, mae)"
   ]
  },
  {
   "cell_type": "code",
   "execution_count": 11,
   "metadata": {},
   "outputs": [
    {
     "data": {
      "text/plain": [
       "mae_mean   -14.365137\n",
       "mae_std      4.050783\n",
       "r2_mean      0.803202\n",
       "r2_std       0.325014\n",
       "Name: Ridge, dtype: float64"
      ]
     },
     "execution_count": 11,
     "metadata": {},
     "output_type": "execute_result"
    }
   ],
   "source": [
    "ridge_cv_summary = get_cv_stats(Ridge(0.1), X, y, \"Ridge\")\n",
    "ridge_cv_summary"
   ]
  },
  {
   "cell_type": "markdown",
   "metadata": {},
   "source": [
    "Fitting Ridge with polynomial features gives the best performance for alpha = 7.1, however R^2 is still lower than for the plain linear model. "
   ]
  },
  {
   "cell_type": "code",
   "execution_count": 12,
   "metadata": {},
   "outputs": [
    {
     "data": {
      "image/png": "[encoded data removed]",
      "text/plain": [
       "<Figure size 432x288 with 1 Axes>"
      ]
     },
     "metadata": {
      "needs_background": "light"
     },
     "output_type": "display_data"
    },
    {
     "data": {
      "text/plain": [
       "7.1"
      ]
     },
     "execution_count": 12,
     "metadata": {},
     "output_type": "execute_result"
    }
   ],
   "source": [
    "alpha = np.arange(0.1,10.0,0.1)\n",
    "mae = [get_cv_mae(Ridge, x, X_polynomial, y) for x in alpha]\n",
    "sns.lineplot(alpha, mae)\n",
    "plt.show()\n",
    "best_alpha = alpha[np.argmax(mae)]\n",
    "best_alpha"
   ]
  },
  {
   "cell_type": "code",
   "execution_count": 13,
   "metadata": {},
   "outputs": [
    {
     "data": {
      "text/plain": [
       "mae_mean   -16.812178\n",
       "mae_std      2.945713\n",
       "r2_mean      0.765870\n",
       "r2_std       0.344874\n",
       "Name: Ridge (Polynomial), dtype: float64"
      ]
     },
     "execution_count": 13,
     "metadata": {},
     "output_type": "execute_result"
    }
   ],
   "source": [
    "ridge_poly_cv_summary = get_cv_stats(Ridge(best_alpha), X_polynomial, y, \"Ridge (Polynomial)\")\n",
    "ridge_poly_cv_summary"
   ]
  },
  {
   "cell_type": "markdown",
   "metadata": {},
   "source": [
    "## Lasso Regression\n",
    "Another improvement over the ordinary Linear Regression is Lasso. It employs L1 reguralisation, that penalises non-zero coefficients, effectively acting as feature selection.\n",
    "\n",
    "Same as Ridge, it requires an alpha parameter.\n",
    "\n",
    "Using the original features, we get the optimal value of alpha = 0.37, and R^2 of 0.806, which is marginally better than our original model."
   ]
  },
  {
   "cell_type": "code",
   "execution_count": 14,
   "metadata": {},
   "outputs": [
    {
     "data": {
      "image/png": "[encoded data removed]",
      "text/plain": [
       "<Figure size 432x288 with 1 Axes>"
      ]
     },
     "metadata": {
      "needs_background": "light"
     },
     "output_type": "display_data"
    },
    {
     "data": {
      "text/plain": [
       "0.3699999999999999"
      ]
     },
     "execution_count": 14,
     "metadata": {},
     "output_type": "execute_result"
    }
   ],
   "source": [
    "alpha = np.arange(0.1,3.0,0.01)\n",
    "mae = [get_cv_mae(Lasso, x, X_scaled, y) for x in alpha]\n",
    "sns.lineplot(alpha, mae)\n",
    "plt.show()\n",
    "best_alpha = alpha[np.argmax(mae)]\n",
    "best_alpha"
   ]
  },
  {
   "cell_type": "code",
   "execution_count": 15,
   "metadata": {},
   "outputs": [
    {
     "data": {
      "text/plain": [
       "mae_mean   -0.421793\n",
       "mae_std     0.318050\n",
       "r2_mean     0.330418\n",
       "r2_std      0.882556\n",
       "Name: Lasso, dtype: float64"
      ]
     },
     "execution_count": 15,
     "metadata": {},
     "output_type": "execute_result"
    }
   ],
   "source": [
    "lasso_cv_summary = get_cv_stats(Lasso(best_alpha), X_scaled, y_scaled, \"Lasso\")\n",
    "lasso_cv_summary"
   ]
  },
  {
   "cell_type": "markdown",
   "metadata": {},
   "source": [
    "Observing the coefficients, Lasso Regression model uses only vertical oscillation, leg spring stiffness, speed, and change in altitude to estimate the power."
   ]
  },
  {
   "cell_type": "code",
   "execution_count": 16,
   "metadata": {},
   "outputs": [
    {
     "data": {
      "text/plain": [
       "cadence    0.128379\n",
       "Speed      0.482425\n",
       "dtype: float64"
      ]
     },
     "execution_count": 16,
     "metadata": {},
     "output_type": "execute_result"
    }
   ],
   "source": [
    "coef = pd.Series(Lasso(best_alpha).fit(X_scaled, y_scaled).coef_, index=X_scaled.columns)\n",
    "coef[coef.abs() > 0]"
   ]
  },
  {
   "cell_type": "markdown",
   "metadata": {},
   "source": [
    "Applying the same procedure to the polynomial features and alpha = 0.54, the performance is on par with the original model."
   ]
  },
  {
   "cell_type": "code",
   "execution_count": 17,
   "metadata": {},
   "outputs": [
    {
     "name": "stderr",
     "output_type": "stream",
     "text": [
      "/home/dlowl/git/wearable-my-foot/notebooks/env/lib64/python3.8/site-packages/sklearn/linear_model/_coordinate_descent.py:529: ConvergenceWarning: Objective did not converge. You might want to increase the number of iterations. Duality gap: 572.0701948627684, tolerance: 284.5708330188679\n",
      "  model = cd_fast.enet_coordinate_descent(\n",
      "/home/dlowl/git/wearable-my-foot/notebooks/env/lib64/python3.8/site-packages/sklearn/linear_model/_coordinate_descent.py:529: ConvergenceWarning: Objective did not converge. You might want to increase the number of iterations. Duality gap: 552.1065784066086, tolerance: 328.59329278996876\n",
      "  model = cd_fast.enet_coordinate_descent(\n",
      "/home/dlowl/git/wearable-my-foot/notebooks/env/lib64/python3.8/site-packages/sklearn/linear_model/_coordinate_descent.py:529: ConvergenceWarning: Objective did not converge. You might want to increase the number of iterations. Duality gap: 954.8194515579962, tolerance: 324.89973354231984\n",
      "  model = cd_fast.enet_coordinate_descent(\n",
      "/home/dlowl/git/wearable-my-foot/notebooks/env/lib64/python3.8/site-packages/sklearn/linear_model/_coordinate_descent.py:529: ConvergenceWarning: Objective did not converge. You might want to increase the number of iterations. Duality gap: 326.8749897224916, tolerance: 284.5708330188679\n",
      "  model = cd_fast.enet_coordinate_descent(\n"
     ]
    },
    {
     "data": {
      "image/png": "[encoded data removed]",
      "text/plain": [
       "<Figure size 432x288 with 1 Axes>"
      ]
     },
     "metadata": {
      "needs_background": "light"
     },
     "output_type": "display_data"
    },
    {
     "data": {
      "text/plain": [
       "0.5399999999999998"
      ]
     },
     "execution_count": 17,
     "metadata": {},
     "output_type": "execute_result"
    }
   ],
   "source": [
    "alpha = np.arange(0.1,3.0,0.01)\n",
    "mae = [get_cv_mae(Lasso, x, X_polynomial, y) for x in alpha]\n",
    "sns.lineplot(alpha, mae)\n",
    "plt.show()\n",
    "best_alpha = alpha[np.argmax(mae)]\n",
    "best_alpha"
   ]
  },
  {
   "cell_type": "code",
   "execution_count": 18,
   "metadata": {},
   "outputs": [
    {
     "data": {
      "text/plain": [
       "mae_mean   -14.859122\n",
       "mae_std      2.959187\n",
       "r2_mean      0.803971\n",
       "r2_std       0.318593\n",
       "Name: Lasso (Polynomial), dtype: float64"
      ]
     },
     "execution_count": 18,
     "metadata": {},
     "output_type": "execute_result"
    }
   ],
   "source": [
    "lasso_poly_cv_summary = get_cv_stats(Lasso(best_alpha), X_polynomial, y, \"Lasso (Polynomial)\")\n",
    "lasso_poly_cv_summary"
   ]
  },
  {
   "cell_type": "markdown",
   "metadata": {},
   "source": [
    "The highest weight is given to speed. However, it is unexpected for the square of cadence to have a large negative weight"
   ]
  },
  {
   "cell_type": "code",
   "execution_count": 19,
   "metadata": {},
   "outputs": [
    {
     "data": {
      "text/plain": [
       "vertical_oscillation                   0.450955\n",
       "Air Power                              2.283172\n",
       "Leg Spring Stiffness                   6.065354\n",
       "Speed                                 65.319887\n",
       "altitude_diff                          3.855482\n",
       "distance_diff                         -0.046320\n",
       "cadence^2                            -11.229774\n",
       "cadence stance_time                   -1.517464\n",
       "vertical_oscillation^2                -0.249014\n",
       "vertical_oscillation Air Power        -0.791379\n",
       "vertical_oscillation altitude_diff     1.681120\n",
       "stance_time^2                         -1.223993\n",
       "stance_time altitude_diff             -1.108581\n",
       "stance_time distance_diff             -0.019814\n",
       "Air Power^2                           -0.285644\n",
       "Air Power altitude_diff               -0.097108\n",
       "Leg Spring Stiffness^2                -3.507196\n",
       "Leg Spring Stiffness altitude_diff     0.644023\n",
       "Speed^2                                2.950054\n",
       "Speed altitude_diff                    0.936915\n",
       "dtype: float64"
      ]
     },
     "execution_count": 19,
     "metadata": {},
     "output_type": "execute_result"
    }
   ],
   "source": [
    "coef = pd.Series(Lasso(best_alpha).fit(X_polynomial, y).coef_, index=X_polynomial.columns)\n",
    "coef[coef.abs() > 0]"
   ]
  },
  {
   "cell_type": "code",
   "execution_count": 20,
   "metadata": {},
   "outputs": [
    {
     "data": {
      "text/plain": [
       "mae_mean   -0.161521\n",
       "mae_std     0.025931\n",
       "r2_mean     0.797577\n",
       "r2_std      0.325061\n",
       "Name: MLP, dtype: float64"
      ]
     },
     "execution_count": 20,
     "metadata": {},
     "output_type": "execute_result"
    }
   ],
   "source": [
    "mlp_summary = get_cv_stats(MLPRegressor(hidden_layer_sizes=(1000,)), X_scaled, y_scaled, \"MLP\")\n",
    "mlp_summary"
   ]
  },
  {
   "cell_type": "code",
   "execution_count": 21,
   "metadata": {},
   "outputs": [
    {
     "data": {
      "text/plain": [
       "mae_mean   -0.183335\n",
       "mae_std     0.020825\n",
       "r2_mean     0.767670\n",
       "r2_std      0.329473\n",
       "Name: MLP (polynomial), dtype: float64"
      ]
     },
     "execution_count": 21,
     "metadata": {},
     "output_type": "execute_result"
    }
   ],
   "source": [
    "mlp_poly_summary = get_cv_stats(MLPRegressor(hidden_layer_sizes=(len(X_polynomial)*2)), X_polynomial, y_scaled, \"MLP (polynomial)\")\n",
    "mlp_poly_summary"
   ]
  },
  {
   "cell_type": "code",
   "execution_count": 22,
   "metadata": {},
   "outputs": [
    {
     "data": {
      "text/html": [
       "<div>\n",
       "<style scoped>\n",
       "    .dataframe tbody tr th:only-of-type {\n",
       "        vertical-align: middle;\n",
       "    }\n",
       "\n",
       "    .dataframe tbody tr th {\n",
       "        vertical-align: top;\n",
       "    }\n",
       "\n",
       "    .dataframe thead th {\n",
       "        text-align: right;\n",
       "    }\n",
       "</style>\n",
       "<table border=\"1\" class=\"dataframe\">\n",
       "  <thead>\n",
       "    <tr style=\"text-align: right;\">\n",
       "      <th></th>\n",
       "      <th>mae_mean</th>\n",
       "      <th>mae_std</th>\n",
       "      <th>r2_mean</th>\n",
       "      <th>r2_std</th>\n",
       "    </tr>\n",
       "  </thead>\n",
       "  <tbody>\n",
       "    <tr>\n",
       "      <th>Linear</th>\n",
       "      <td>-0.151143</td>\n",
       "      <td>0.042484</td>\n",
       "      <td>0.803620</td>\n",
       "      <td>0.324110</td>\n",
       "    </tr>\n",
       "    <tr>\n",
       "      <th>Linear (selected)</th>\n",
       "      <td>-0.157931</td>\n",
       "      <td>0.055153</td>\n",
       "      <td>0.772471</td>\n",
       "      <td>0.370952</td>\n",
       "    </tr>\n",
       "    <tr>\n",
       "      <th>Linear (polynomial)</th>\n",
       "      <td>-0.233588</td>\n",
       "      <td>0.065597</td>\n",
       "      <td>0.690869</td>\n",
       "      <td>0.295533</td>\n",
       "    </tr>\n",
       "    <tr>\n",
       "      <th>Ridge</th>\n",
       "      <td>-14.365137</td>\n",
       "      <td>4.050783</td>\n",
       "      <td>0.803202</td>\n",
       "      <td>0.325014</td>\n",
       "    </tr>\n",
       "    <tr>\n",
       "      <th>Ridge (Polynomial)</th>\n",
       "      <td>-16.812178</td>\n",
       "      <td>2.945713</td>\n",
       "      <td>0.765870</td>\n",
       "      <td>0.344874</td>\n",
       "    </tr>\n",
       "    <tr>\n",
       "      <th>Lasso</th>\n",
       "      <td>-0.421793</td>\n",
       "      <td>0.318050</td>\n",
       "      <td>0.330418</td>\n",
       "      <td>0.882556</td>\n",
       "    </tr>\n",
       "    <tr>\n",
       "      <th>Lasso (Polynomial)</th>\n",
       "      <td>-14.859122</td>\n",
       "      <td>2.959187</td>\n",
       "      <td>0.803971</td>\n",
       "      <td>0.318593</td>\n",
       "    </tr>\n",
       "    <tr>\n",
       "      <th>MLP</th>\n",
       "      <td>-0.161521</td>\n",
       "      <td>0.025931</td>\n",
       "      <td>0.797577</td>\n",
       "      <td>0.325061</td>\n",
       "    </tr>\n",
       "    <tr>\n",
       "      <th>MLP (polynomial)</th>\n",
       "      <td>-0.183335</td>\n",
       "      <td>0.020825</td>\n",
       "      <td>0.767670</td>\n",
       "      <td>0.329473</td>\n",
       "    </tr>\n",
       "  </tbody>\n",
       "</table>\n",
       "</div>"
      ],
      "text/plain": [
       "                      mae_mean   mae_std   r2_mean    r2_std\n",
       "Linear               -0.151143  0.042484  0.803620  0.324110\n",
       "Linear (selected)    -0.157931  0.055153  0.772471  0.370952\n",
       "Linear (polynomial)  -0.233588  0.065597  0.690869  0.295533\n",
       "Ridge               -14.365137  4.050783  0.803202  0.325014\n",
       "Ridge (Polynomial)  -16.812178  2.945713  0.765870  0.344874\n",
       "Lasso                -0.421793  0.318050  0.330418  0.882556\n",
       "Lasso (Polynomial)  -14.859122  2.959187  0.803971  0.318593\n",
       "MLP                  -0.161521  0.025931  0.797577  0.325061\n",
       "MLP (polynomial)     -0.183335  0.020825  0.767670  0.329473"
      ]
     },
     "execution_count": 22,
     "metadata": {},
     "output_type": "execute_result"
    }
   ],
   "source": [
    "pd.DataFrame([\n",
    "    lr_naive_cv_summary, lr_manual_cv_summary, lr_poly_cv_summary,\n",
    "    ridge_cv_summary, ridge_poly_cv_summary,\n",
    "    lasso_cv_summary, lasso_poly_cv_summary,\n",
    "    mlp_summary, mlp_poly_summary\n",
    "])"
   ]
  },
  {
   "cell_type": "code",
   "execution_count": null,
   "metadata": {},
   "outputs": [],
   "source": []
  }
 ],
 "metadata": {
  "kernelspec": {
   "display_name": "Python 3",
   "language": "python",
   "name": "python3"
  },
  "language_info": {
   "codemirror_mode": {
    "name": "ipython",
    "version": 3
   },
   "file_extension": ".py",
   "mimetype": "text/x-python",
   "name": "python",
   "nbconvert_exporter": "python",
   "pygments_lexer": "ipython3",
   "version": "3.8.3"
  }
 },
 "nbformat": 4,
 "nbformat_minor": 4
}

{
 "cells": [
  {
   "cell_type": "code",
   "execution_count": 445,
   "metadata": {},
   "outputs": [],
   "source": [
    "import pandas as pd\n",
    "import seaborn as sns\n",
    "import numpy as np\n",
    "import scipy as sp\n",
    "import matplotlib.pyplot as plt\n",
    "# from statsmodels.tsa.statespace.kalman_filter import KalmanFilter"
   ]
  },
  {
   "cell_type": "code",
   "execution_count": 446,
   "metadata": {},
   "outputs": [],
   "source": [
    "# df = pd.read_csv(\"../data/2020-08-25T06_26_17.629Z.csv\", parse_dates=[0])\n",
    "# df = pd.read_csv(\"../data/2020-08-25T06_11_15.569Z.csv\", parse_dates=[0])\n",
    "# graph_samplerate = 1\n",
    "# rps = 2\n",
    "df = pd.read_csv(\"../data/2020-08-25T11_43_19.036Z.csv\")\n",
    "graph_samplerate = 20 # seaborn doesn't like many points\n",
    "rps = 100 # records per second"
   ]
  },
  {
   "cell_type": "code",
   "execution_count": 447,
   "metadata": {},
   "outputs": [
    {
     "data": {
      "text/html": [
       "<div>\n",
       "<style scoped>\n",
       "    .dataframe tbody tr th:only-of-type {\n",
       "        vertical-align: middle;\n",
       "    }\n",
       "\n",
       "    .dataframe tbody tr th {\n",
       "        vertical-align: top;\n",
       "    }\n",
       "\n",
       "    .dataframe thead th {\n",
       "        text-align: right;\n",
       "    }\n",
       "</style>\n",
       "<table border=\"1\" class=\"dataframe\">\n",
       "  <thead>\n",
       "    <tr style=\"text-align: right;\">\n",
       "      <th></th>\n",
       "      <th>time</th>\n",
       "      <th>aX</th>\n",
       "      <th>aY</th>\n",
       "      <th>aZ</th>\n",
       "      <th>gX</th>\n",
       "      <th>gY</th>\n",
       "      <th>gZ</th>\n",
       "    </tr>\n",
       "  </thead>\n",
       "  <tbody>\n",
       "    <tr>\n",
       "      <th>0</th>\n",
       "      <td>196553</td>\n",
       "      <td>0.997681</td>\n",
       "      <td>-0.030640</td>\n",
       "      <td>-0.093262</td>\n",
       "      <td>0.549316</td>\n",
       "      <td>-2.502441</td>\n",
       "      <td>-0.427246</td>\n",
       "    </tr>\n",
       "    <tr>\n",
       "      <th>1</th>\n",
       "      <td>196573</td>\n",
       "      <td>0.996460</td>\n",
       "      <td>-0.036011</td>\n",
       "      <td>-0.088989</td>\n",
       "      <td>0.793457</td>\n",
       "      <td>-2.441406</td>\n",
       "      <td>0.000000</td>\n",
       "    </tr>\n",
       "    <tr>\n",
       "      <th>2</th>\n",
       "      <td>196583</td>\n",
       "      <td>0.998413</td>\n",
       "      <td>-0.040161</td>\n",
       "      <td>-0.093994</td>\n",
       "      <td>0.366211</td>\n",
       "      <td>-2.502441</td>\n",
       "      <td>0.000000</td>\n",
       "    </tr>\n",
       "    <tr>\n",
       "      <th>3</th>\n",
       "      <td>196593</td>\n",
       "      <td>1.000000</td>\n",
       "      <td>-0.048218</td>\n",
       "      <td>-0.090088</td>\n",
       "      <td>0.488281</td>\n",
       "      <td>-2.441406</td>\n",
       "      <td>0.000000</td>\n",
       "    </tr>\n",
       "    <tr>\n",
       "      <th>4</th>\n",
       "      <td>196603</td>\n",
       "      <td>0.999634</td>\n",
       "      <td>-0.047241</td>\n",
       "      <td>-0.092041</td>\n",
       "      <td>0.610352</td>\n",
       "      <td>-2.502441</td>\n",
       "      <td>-0.122070</td>\n",
       "    </tr>\n",
       "    <tr>\n",
       "      <th>...</th>\n",
       "      <td>...</td>\n",
       "      <td>...</td>\n",
       "      <td>...</td>\n",
       "      <td>...</td>\n",
       "      <td>...</td>\n",
       "      <td>...</td>\n",
       "      <td>...</td>\n",
       "    </tr>\n",
       "    <tr>\n",
       "      <th>3098</th>\n",
       "      <td>237279</td>\n",
       "      <td>0.994141</td>\n",
       "      <td>-0.128662</td>\n",
       "      <td>-0.058838</td>\n",
       "      <td>0.671387</td>\n",
       "      <td>-2.197266</td>\n",
       "      <td>-0.427246</td>\n",
       "    </tr>\n",
       "    <tr>\n",
       "      <th>3099</th>\n",
       "      <td>237289</td>\n",
       "      <td>0.996704</td>\n",
       "      <td>-0.130371</td>\n",
       "      <td>-0.061279</td>\n",
       "      <td>0.793457</td>\n",
       "      <td>-2.197266</td>\n",
       "      <td>-0.610352</td>\n",
       "    </tr>\n",
       "    <tr>\n",
       "      <th>3100</th>\n",
       "      <td>237299</td>\n",
       "      <td>0.997192</td>\n",
       "      <td>-0.132690</td>\n",
       "      <td>-0.060303</td>\n",
       "      <td>0.915527</td>\n",
       "      <td>-2.075195</td>\n",
       "      <td>-0.793457</td>\n",
       "    </tr>\n",
       "    <tr>\n",
       "      <th>3101</th>\n",
       "      <td>237309</td>\n",
       "      <td>0.994751</td>\n",
       "      <td>-0.128174</td>\n",
       "      <td>-0.058105</td>\n",
       "      <td>0.976562</td>\n",
       "      <td>-2.075195</td>\n",
       "      <td>-0.915527</td>\n",
       "    </tr>\n",
       "    <tr>\n",
       "      <th>3102</th>\n",
       "      <td>237319</td>\n",
       "      <td>0.989746</td>\n",
       "      <td>-0.123291</td>\n",
       "      <td>-0.058716</td>\n",
       "      <td>1.159668</td>\n",
       "      <td>-2.075195</td>\n",
       "      <td>-1.037598</td>\n",
       "    </tr>\n",
       "  </tbody>\n",
       "</table>\n",
       "<p>3103 rows × 7 columns</p>\n",
       "</div>"
      ],
      "text/plain": [
       "        time        aX        aY        aZ        gX        gY        gZ\n",
       "0     196553  0.997681 -0.030640 -0.093262  0.549316 -2.502441 -0.427246\n",
       "1     196573  0.996460 -0.036011 -0.088989  0.793457 -2.441406  0.000000\n",
       "2     196583  0.998413 -0.040161 -0.093994  0.366211 -2.502441  0.000000\n",
       "3     196593  1.000000 -0.048218 -0.090088  0.488281 -2.441406  0.000000\n",
       "4     196603  0.999634 -0.047241 -0.092041  0.610352 -2.502441 -0.122070\n",
       "...      ...       ...       ...       ...       ...       ...       ...\n",
       "3098  237279  0.994141 -0.128662 -0.058838  0.671387 -2.197266 -0.427246\n",
       "3099  237289  0.996704 -0.130371 -0.061279  0.793457 -2.197266 -0.610352\n",
       "3100  237299  0.997192 -0.132690 -0.060303  0.915527 -2.075195 -0.793457\n",
       "3101  237309  0.994751 -0.128174 -0.058105  0.976562 -2.075195 -0.915527\n",
       "3102  237319  0.989746 -0.123291 -0.058716  1.159668 -2.075195 -1.037598\n",
       "\n",
       "[3103 rows x 7 columns]"
      ]
     },
     "execution_count": 447,
     "metadata": {},
     "output_type": "execute_result"
    }
   ],
   "source": [
    "df"
   ]
  },
  {
   "cell_type": "code",
   "execution_count": 448,
   "metadata": {},
   "outputs": [
    {
     "data": {
      "text/plain": [
       "<AxesSubplot:xlabel='time', ylabel='aZ'>"
      ]
     },
     "execution_count": 448,
     "metadata": {},
     "output_type": "execute_result"
    },
    {
     "data": {
      "image/png": "[encoded data removed]",
      "text/plain": [
       "<Figure size 432x288 with 1 Axes>"
      ]
     },
     "metadata": {
      "needs_background": "light"
     },
     "output_type": "display_data"
    }
   ],
   "source": [
    "dfsample = df.iloc[::graph_samplerate]\n",
    "sns.lineplot(data=dfsample, x=\"time\", y=\"aX\")\n",
    "sns.lineplot(data=dfsample, x=\"time\", y=\"aY\")\n",
    "sns.lineplot(data=dfsample, x=\"time\", y=\"aZ\")"
   ]
  },
  {
   "cell_type": "code",
   "execution_count": 449,
   "metadata": {},
   "outputs": [
    {
     "name": "stderr",
     "output_type": "stream",
     "text": [
      "/home/dlowl/git/wearable-my-foot/notebooks/env/lib64/python3.8/site-packages/pandas/core/indexing.py:1736: SettingWithCopyWarning: \n",
      "A value is trying to be set on a copy of a slice from a DataFrame.\n",
      "Try using .loc[row_indexer,col_indexer] = value instead\n",
      "\n",
      "See the caveats in the documentation: https://pandas.pydata.org/pandas-docs/stable/user_guide/indexing.html#returning-a-view-versus-a-copy\n",
      "  isetter(loc, value[:, i].tolist())\n"
     ]
    },
    {
     "data": {
      "text/plain": [
       "<AxesSubplot:xlabel='time', ylabel='aZ'>"
      ]
     },
     "execution_count": 449,
     "metadata": {},
     "output_type": "execute_result"
    },
    {
     "data": {
      "image/png": "[encoded data removed]",
      "text/plain": [
       "<Figure size 432x288 with 1 Axes>"
      ]
     },
     "metadata": {
      "needs_background": "light"
     },
     "output_type": "display_data"
    }
   ],
   "source": [
    "_df = df.iloc[:10*rps]\n",
    "_df.loc[:,[\"aX\"]] = sp.ndimage.median_filter(_df.loc[:,[\"aX\"]], 5)\n",
    "_df.loc[:,[\"aY\"]] = sp.ndimage.median_filter(_df.loc[:,[\"aY\"]], 5)\n",
    "_df.loc[:,[\"aZ\"]] = sp.ndimage.median_filter(_df.loc[:,[\"aZ\"]], 5)\n",
    "# _df = df.iloc[30:90]\n",
    "_dfsample = _df.iloc[::graph_samplerate]\n",
    "sns.lineplot(data=_dfsample, x=\"time\", y=\"aX\")\n",
    "sns.lineplot(data=_dfsample, x=\"time\", y=\"aY\")\n",
    "sns.lineplot(data=_dfsample, x=\"time\", y=\"aZ\")"
   ]
  },
  {
   "cell_type": "code",
   "execution_count": 450,
   "metadata": {},
   "outputs": [],
   "source": [
    "ground_vector = _df.loc[:,[\"aX\", \"aY\", \"aZ\"]].mean()"
   ]
  },
  {
   "cell_type": "code",
   "execution_count": 451,
   "metadata": {},
   "outputs": [
    {
     "data": {
      "text/plain": [
       "'Ground vector'"
      ]
     },
     "metadata": {},
     "output_type": "display_data"
    },
    {
     "data": {
      "text/plain": [
       "array([ 0.9977489 , -0.04082556, -0.0972677 ])"
      ]
     },
     "metadata": {},
     "output_type": "display_data"
    },
    {
     "data": {
      "text/plain": [
       "'magnitude'"
      ]
     },
     "metadata": {},
     "output_type": "display_data"
    },
    {
     "data": {
      "text/plain": [
       "1.0033098246317387"
      ]
     },
     "metadata": {},
     "output_type": "display_data"
    }
   ],
   "source": [
    "display(\"Ground vector\",ground_vector.values,\"magnitude\",np.sqrt((ground_vector**2).sum()))"
   ]
  },
  {
   "cell_type": "code",
   "execution_count": 452,
   "metadata": {},
   "outputs": [],
   "source": [
    "acceleration = df.loc[:,[\"aX\", \"aY\", \"aZ\"]] - ground_vector\n",
    "acceleration[\"time\"] = df.time"
   ]
  },
  {
   "cell_type": "code",
   "execution_count": 453,
   "metadata": {},
   "outputs": [
    {
     "data": {
      "image/png": "[encoded data removed]",
      "text/plain": [
       "<Figure size 432x288 with 1 Axes>"
      ]
     },
     "metadata": {
      "needs_background": "light"
     },
     "output_type": "display_data"
    },
    {
     "data": {
      "image/png": "[encoded data removed]",
      "text/plain": [
       "<Figure size 432x288 with 1 Axes>"
      ]
     },
     "metadata": {
      "needs_background": "light"
     },
     "output_type": "display_data"
    }
   ],
   "source": [
    "a, b = int(12.7 * rps), int(14.8 * rps)\n",
    "# a, b = int(0 * rps), int(10 * rps)\n",
    "sample = acceleration.iloc[a:b]\n",
    "# Median filtering removes noise, but the integration results are virtually the same\n",
    "# size = 13\n",
    "# sample.loc[:,[\"aX\"]] = sp.ndimage.median_filter(sample.loc[:,[\"aX\"]], size)\n",
    "# sample.loc[:,[\"aY\"]] = sp.ndimage.median_filter(sample.loc[:,[\"aY\"]], size)\n",
    "# sample.loc[:,[\"aZ\"]] = sp.ndimage.median_filter(sample.loc[:,[\"aZ\"]], size)\n",
    "velsample = sp.integrate.cumtrapz(y=sample.aX.values[1:])\n",
    "sns.lineplot(data=sample, x=\"time\", y=\"aX\")\n",
    "plt.show()\n",
    "sns.lineplot(x=sample.time[2:], y=velsample)\n",
    "plt.show()\n",
    "# sns.lineplot(data=sample, x=\"time\", y=\"aY\")\n",
    "# sns.lineplot(data=sample, x=\"time\", y=\"aZ\")\n"
   ]
  },
  {
   "cell_type": "code",
   "execution_count": 454,
   "metadata": {},
   "outputs": [
    {
     "data": {
      "text/plain": [
       "<AxesSubplot:xlabel='time', ylabel='aZ'>"
      ]
     },
     "execution_count": 454,
     "metadata": {},
     "output_type": "execute_result"
    },
    {
     "data": {
      "image/png": "[encoded data removed]",
      "text/plain": [
       "<Figure size 432x288 with 1 Axes>"
      ]
     },
     "metadata": {
      "needs_background": "light"
     },
     "output_type": "display_data"
    }
   ],
   "source": [
    "_a = acceleration.iloc[::graph_samplerate]\n",
    "sns.lineplot(data=_a, x=\"time\", y=\"aX\")\n",
    "sns.lineplot(data=_a, x=\"time\", y=\"aY\")\n",
    "sns.lineplot(data=_a, x=\"time\", y=\"aZ\")"
   ]
  },
  {
   "cell_type": "code",
   "execution_count": 455,
   "metadata": {},
   "outputs": [],
   "source": [
    "velocity = pd.DataFrame(sp.integrate.cumtrapz(y=acceleration.loc[:, [\"aX\", \"aY\", \"aZ\"]], x=acceleration.time, axis=0), columns=[\"vX\", \"vY\", \"vZ\"])\n",
    "velocity[\"time\"] = acceleration.time\n",
    "velocity[\"magnitude\"] = (velocity.loc[:,[\"vX\", \"vY\", \"vZ\"]]**2).sum(axis=1)"
   ]
  },
  {
   "cell_type": "code",
   "execution_count": 456,
   "metadata": {},
   "outputs": [
    {
     "data": {
      "text/plain": [
       "<AxesSubplot:xlabel='time', ylabel='vZ'>"
      ]
     },
     "execution_count": 456,
     "metadata": {},
     "output_type": "execute_result"
    },
    {
     "data": {
      "image/png": "[encoded data removed]",
      "text/plain": [
       "<Figure size 432x288 with 1 Axes>"
      ]
     },
     "metadata": {
      "needs_background": "light"
     },
     "output_type": "display_data"
    }
   ],
   "source": [
    "vsample = velocity.iloc[::graph_samplerate]\n",
    "sns.lineplot(data=vsample, x=\"time\", y=\"vX\")\n",
    "sns.lineplot(data=vsample, x=\"time\", y=\"vY\")\n",
    "sns.lineplot(data=vsample, x=\"time\", y=\"vZ\")"
   ]
  },
  {
   "cell_type": "code",
   "execution_count": 457,
   "metadata": {},
   "outputs": [
    {
     "data": {
      "text/plain": [
       "<AxesSubplot:xlabel='time', ylabel='magnitude'>"
      ]
     },
     "execution_count": 457,
     "metadata": {},
     "output_type": "execute_result"
    },
    {
     "data": {
      "image/png": "[encoded data removed]",
      "text/plain": [
       "<Figure size 432x288 with 1 Axes>"
      ]
     },
     "metadata": {
      "needs_background": "light"
     },
     "output_type": "display_data"
    }
   ],
   "source": [
    "sns.lineplot(data=vsample, x=\"time\", y=\"magnitude\")"
   ]
  },
  {
   "cell_type": "code",
   "execution_count": 458,
   "metadata": {},
   "outputs": [],
   "source": [
    "acceleration[\"magnitude\"] = np.sqrt((acceleration.loc[:,[\"aX\", \"aY\", \"aZ\"]]**2).sum(axis=1))"
   ]
  },
  {
   "cell_type": "code",
   "execution_count": 307,
   "metadata": {},
   "outputs": [
    {
     "ename": "KeyboardInterrupt",
     "evalue": "",
     "output_type": "error",
     "traceback": [
      "\u001b[0;31m---------------------------------------------------------------------------\u001b[0m",
      "\u001b[0;31mKeyboardInterrupt\u001b[0m                         Traceback (most recent call last)",
      "\u001b[0;32m<ipython-input-307-03215b7fa6ac>\u001b[0m in \u001b[0;36m<module>\u001b[0;34m\u001b[0m\n\u001b[0;32m----> 1\u001b[0;31m \u001b[0msns\u001b[0m\u001b[0;34m.\u001b[0m\u001b[0mlineplot\u001b[0m\u001b[0;34m(\u001b[0m\u001b[0mdata\u001b[0m\u001b[0;34m=\u001b[0m\u001b[0macceleration\u001b[0m\u001b[0;34m,\u001b[0m \u001b[0mx\u001b[0m\u001b[0;34m=\u001b[0m\u001b[0;34m\"datetime\"\u001b[0m\u001b[0;34m,\u001b[0m \u001b[0my\u001b[0m\u001b[0;34m=\u001b[0m\u001b[0;34m\"magnitude\"\u001b[0m\u001b[0;34m)\u001b[0m\u001b[0;34m\u001b[0m\u001b[0;34m\u001b[0m\u001b[0m\n\u001b[0m",
      "\u001b[0;32m~/git/wearable-my-foot/notebooks/env/lib64/python3.8/site-packages/seaborn/relational.py\u001b[0m in \u001b[0;36mlineplot\u001b[0;34m(x, y, hue, size, style, data, palette, hue_order, hue_norm, sizes, size_order, size_norm, dashes, markers, style_order, units, estimator, ci, n_boot, seed, sort, err_style, err_kws, legend, ax, **kwargs)\u001b[0m\n\u001b[1;32m   1130\u001b[0m         \u001b[0max\u001b[0m \u001b[0;34m=\u001b[0m \u001b[0mplt\u001b[0m\u001b[0;34m.\u001b[0m\u001b[0mgca\u001b[0m\u001b[0;34m(\u001b[0m\u001b[0;34m)\u001b[0m\u001b[0;34m\u001b[0m\u001b[0;34m\u001b[0m\u001b[0m\n\u001b[1;32m   1131\u001b[0m \u001b[0;34m\u001b[0m\u001b[0m\n\u001b[0;32m-> 1132\u001b[0;31m     \u001b[0mp\u001b[0m\u001b[0;34m.\u001b[0m\u001b[0mplot\u001b[0m\u001b[0;34m(\u001b[0m\u001b[0max\u001b[0m\u001b[0;34m,\u001b[0m \u001b[0mkwargs\u001b[0m\u001b[0;34m)\u001b[0m\u001b[0;34m\u001b[0m\u001b[0;34m\u001b[0m\u001b[0m\n\u001b[0m\u001b[1;32m   1133\u001b[0m     \u001b[0;32mreturn\u001b[0m \u001b[0max\u001b[0m\u001b[0;34m\u001b[0m\u001b[0;34m\u001b[0m\u001b[0m\n\u001b[1;32m   1134\u001b[0m \u001b[0;34m\u001b[0m\u001b[0m\n",
      "\u001b[0;32m~/git/wearable-my-foot/notebooks/env/lib64/python3.8/site-packages/seaborn/relational.py\u001b[0m in \u001b[0;36mplot\u001b[0;34m(self, ax, kws)\u001b[0m\n\u001b[1;32m    807\u001b[0m                     \u001b[0merr\u001b[0m \u001b[0;34m=\u001b[0m \u001b[0;34m\"estimator must be None when specifying units\"\u001b[0m\u001b[0;34m\u001b[0m\u001b[0;34m\u001b[0m\u001b[0m\n\u001b[1;32m    808\u001b[0m                     \u001b[0;32mraise\u001b[0m \u001b[0mValueError\u001b[0m\u001b[0;34m(\u001b[0m\u001b[0merr\u001b[0m\u001b[0;34m)\u001b[0m\u001b[0;34m\u001b[0m\u001b[0;34m\u001b[0m\u001b[0m\n\u001b[0;32m--> 809\u001b[0;31m                 \u001b[0mx\u001b[0m\u001b[0;34m,\u001b[0m \u001b[0my\u001b[0m\u001b[0;34m,\u001b[0m \u001b[0my_ci\u001b[0m \u001b[0;34m=\u001b[0m \u001b[0mself\u001b[0m\u001b[0;34m.\u001b[0m\u001b[0maggregate\u001b[0m\u001b[0;34m(\u001b[0m\u001b[0my\u001b[0m\u001b[0;34m,\u001b[0m \u001b[0mx\u001b[0m\u001b[0;34m,\u001b[0m \u001b[0munits\u001b[0m\u001b[0;34m)\u001b[0m\u001b[0;34m\u001b[0m\u001b[0;34m\u001b[0m\u001b[0m\n\u001b[0m\u001b[1;32m    810\u001b[0m             \u001b[0;32melse\u001b[0m\u001b[0;34m:\u001b[0m\u001b[0;34m\u001b[0m\u001b[0;34m\u001b[0m\u001b[0m\n\u001b[1;32m    811\u001b[0m                 \u001b[0my_ci\u001b[0m \u001b[0;34m=\u001b[0m \u001b[0;32mNone\u001b[0m\u001b[0;34m\u001b[0m\u001b[0;34m\u001b[0m\u001b[0m\n",
      "\u001b[0;32m~/git/wearable-my-foot/notebooks/env/lib64/python3.8/site-packages/seaborn/relational.py\u001b[0m in \u001b[0;36maggregate\u001b[0;34m(self, vals, grouper, units)\u001b[0m\n\u001b[1;32m    750\u001b[0m                                columns=[\"low\", \"high\"]).stack()\n\u001b[1;32m    751\u001b[0m         \u001b[0;32melse\u001b[0m\u001b[0;34m:\u001b[0m\u001b[0;34m\u001b[0m\u001b[0;34m\u001b[0m\u001b[0m\n\u001b[0;32m--> 752\u001b[0;31m             \u001b[0mcis\u001b[0m \u001b[0;34m=\u001b[0m \u001b[0mgrouped\u001b[0m\u001b[0;34m.\u001b[0m\u001b[0mapply\u001b[0m\u001b[0;34m(\u001b[0m\u001b[0mbootstrapped_cis\u001b[0m\u001b[0;34m)\u001b[0m\u001b[0;34m\u001b[0m\u001b[0;34m\u001b[0m\u001b[0m\n\u001b[0m\u001b[1;32m    753\u001b[0m \u001b[0;34m\u001b[0m\u001b[0m\n\u001b[1;32m    754\u001b[0m         \u001b[0;31m# Unpack the CIs into \"wide\" format for plotting\u001b[0m\u001b[0;34m\u001b[0m\u001b[0;34m\u001b[0m\u001b[0;34m\u001b[0m\u001b[0m\n",
      "\u001b[0;32m~/git/wearable-my-foot/notebooks/env/lib64/python3.8/site-packages/pandas/core/groupby/generic.py\u001b[0m in \u001b[0;36mapply\u001b[0;34m(self, func, *args, **kwargs)\u001b[0m\n\u001b[1;32m    224\u001b[0m     )\n\u001b[1;32m    225\u001b[0m     \u001b[0;32mdef\u001b[0m \u001b[0mapply\u001b[0m\u001b[0;34m(\u001b[0m\u001b[0mself\u001b[0m\u001b[0;34m,\u001b[0m \u001b[0mfunc\u001b[0m\u001b[0;34m,\u001b[0m \u001b[0;34m*\u001b[0m\u001b[0margs\u001b[0m\u001b[0;34m,\u001b[0m \u001b[0;34m**\u001b[0m\u001b[0mkwargs\u001b[0m\u001b[0;34m)\u001b[0m\u001b[0;34m:\u001b[0m\u001b[0;34m\u001b[0m\u001b[0;34m\u001b[0m\u001b[0m\n\u001b[0;32m--> 226\u001b[0;31m         \u001b[0;32mreturn\u001b[0m \u001b[0msuper\u001b[0m\u001b[0;34m(\u001b[0m\u001b[0;34m)\u001b[0m\u001b[0;34m.\u001b[0m\u001b[0mapply\u001b[0m\u001b[0;34m(\u001b[0m\u001b[0mfunc\u001b[0m\u001b[0;34m,\u001b[0m \u001b[0;34m*\u001b[0m\u001b[0margs\u001b[0m\u001b[0;34m,\u001b[0m \u001b[0;34m**\u001b[0m\u001b[0mkwargs\u001b[0m\u001b[0;34m)\u001b[0m\u001b[0;34m\u001b[0m\u001b[0;34m\u001b[0m\u001b[0m\n\u001b[0m\u001b[1;32m    227\u001b[0m \u001b[0;34m\u001b[0m\u001b[0m\n\u001b[1;32m    228\u001b[0m     @doc(\n",
      "\u001b[0;32m~/git/wearable-my-foot/notebooks/env/lib64/python3.8/site-packages/pandas/core/groupby/groupby.py\u001b[0m in \u001b[0;36mapply\u001b[0;34m(self, func, *args, **kwargs)\u001b[0m\n\u001b[1;32m    857\u001b[0m         \u001b[0;32mwith\u001b[0m \u001b[0moption_context\u001b[0m\u001b[0;34m(\u001b[0m\u001b[0;34m\"mode.chained_assignment\"\u001b[0m\u001b[0;34m,\u001b[0m \u001b[0;32mNone\u001b[0m\u001b[0;34m)\u001b[0m\u001b[0;34m:\u001b[0m\u001b[0;34m\u001b[0m\u001b[0;34m\u001b[0m\u001b[0m\n\u001b[1;32m    858\u001b[0m             \u001b[0;32mtry\u001b[0m\u001b[0;34m:\u001b[0m\u001b[0;34m\u001b[0m\u001b[0;34m\u001b[0m\u001b[0m\n\u001b[0;32m--> 859\u001b[0;31m                 \u001b[0mresult\u001b[0m \u001b[0;34m=\u001b[0m \u001b[0mself\u001b[0m\u001b[0;34m.\u001b[0m\u001b[0m_python_apply_general\u001b[0m\u001b[0;34m(\u001b[0m\u001b[0mf\u001b[0m\u001b[0;34m,\u001b[0m \u001b[0mself\u001b[0m\u001b[0;34m.\u001b[0m\u001b[0m_selected_obj\u001b[0m\u001b[0;34m)\u001b[0m\u001b[0;34m\u001b[0m\u001b[0;34m\u001b[0m\u001b[0m\n\u001b[0m\u001b[1;32m    860\u001b[0m             \u001b[0;32mexcept\u001b[0m \u001b[0mTypeError\u001b[0m\u001b[0;34m:\u001b[0m\u001b[0;34m\u001b[0m\u001b[0;34m\u001b[0m\u001b[0m\n\u001b[1;32m    861\u001b[0m                 \u001b[0;31m# gh-20949\u001b[0m\u001b[0;34m\u001b[0m\u001b[0;34m\u001b[0m\u001b[0;34m\u001b[0m\u001b[0m\n",
      "\u001b[0;32m~/git/wearable-my-foot/notebooks/env/lib64/python3.8/site-packages/pandas/core/groupby/groupby.py\u001b[0m in \u001b[0;36m_python_apply_general\u001b[0;34m(self, f, data)\u001b[0m\n\u001b[1;32m    890\u001b[0m             \u001b[0mdata\u001b[0m \u001b[0mafter\u001b[0m \u001b[0mapplying\u001b[0m \u001b[0mf\u001b[0m\u001b[0;34m\u001b[0m\u001b[0;34m\u001b[0m\u001b[0m\n\u001b[1;32m    891\u001b[0m         \"\"\"\n\u001b[0;32m--> 892\u001b[0;31m         \u001b[0mkeys\u001b[0m\u001b[0;34m,\u001b[0m \u001b[0mvalues\u001b[0m\u001b[0;34m,\u001b[0m \u001b[0mmutated\u001b[0m \u001b[0;34m=\u001b[0m \u001b[0mself\u001b[0m\u001b[0;34m.\u001b[0m\u001b[0mgrouper\u001b[0m\u001b[0;34m.\u001b[0m\u001b[0mapply\u001b[0m\u001b[0;34m(\u001b[0m\u001b[0mf\u001b[0m\u001b[0;34m,\u001b[0m \u001b[0mdata\u001b[0m\u001b[0;34m,\u001b[0m \u001b[0mself\u001b[0m\u001b[0;34m.\u001b[0m\u001b[0maxis\u001b[0m\u001b[0;34m)\u001b[0m\u001b[0;34m\u001b[0m\u001b[0;34m\u001b[0m\u001b[0m\n\u001b[0m\u001b[1;32m    893\u001b[0m \u001b[0;34m\u001b[0m\u001b[0m\n\u001b[1;32m    894\u001b[0m         return self._wrap_applied_output(\n",
      "\u001b[0;32m~/git/wearable-my-foot/notebooks/env/lib64/python3.8/site-packages/pandas/core/groupby/ops.py\u001b[0m in \u001b[0;36mapply\u001b[0;34m(self, f, data, axis)\u001b[0m\n\u001b[1;32m    211\u001b[0m             \u001b[0;31m# group might be modified\u001b[0m\u001b[0;34m\u001b[0m\u001b[0;34m\u001b[0m\u001b[0;34m\u001b[0m\u001b[0m\n\u001b[1;32m    212\u001b[0m             \u001b[0mgroup_axes\u001b[0m \u001b[0;34m=\u001b[0m \u001b[0mgroup\u001b[0m\u001b[0;34m.\u001b[0m\u001b[0maxes\u001b[0m\u001b[0;34m\u001b[0m\u001b[0;34m\u001b[0m\u001b[0m\n\u001b[0;32m--> 213\u001b[0;31m             \u001b[0mres\u001b[0m \u001b[0;34m=\u001b[0m \u001b[0mf\u001b[0m\u001b[0;34m(\u001b[0m\u001b[0mgroup\u001b[0m\u001b[0;34m)\u001b[0m\u001b[0;34m\u001b[0m\u001b[0;34m\u001b[0m\u001b[0m\n\u001b[0m\u001b[1;32m    214\u001b[0m             \u001b[0;32mif\u001b[0m \u001b[0;32mnot\u001b[0m \u001b[0m_is_indexed_like\u001b[0m\u001b[0;34m(\u001b[0m\u001b[0mres\u001b[0m\u001b[0;34m,\u001b[0m \u001b[0mgroup_axes\u001b[0m\u001b[0;34m)\u001b[0m\u001b[0;34m:\u001b[0m\u001b[0;34m\u001b[0m\u001b[0;34m\u001b[0m\u001b[0m\n\u001b[1;32m    215\u001b[0m                 \u001b[0mmutated\u001b[0m \u001b[0;34m=\u001b[0m \u001b[0;32mTrue\u001b[0m\u001b[0;34m\u001b[0m\u001b[0;34m\u001b[0m\u001b[0m\n",
      "\u001b[0;32m~/git/wearable-my-foot/notebooks/env/lib64/python3.8/site-packages/seaborn/relational.py\u001b[0m in \u001b[0;36mbootstrapped_cis\u001b[0;34m(vals)\u001b[0m\n\u001b[1;32m    731\u001b[0m                 \u001b[0;32mreturn\u001b[0m \u001b[0mnull_ci\u001b[0m\u001b[0;34m\u001b[0m\u001b[0;34m\u001b[0m\u001b[0m\n\u001b[1;32m    732\u001b[0m \u001b[0;34m\u001b[0m\u001b[0m\n\u001b[0;32m--> 733\u001b[0;31m             \u001b[0mboots\u001b[0m \u001b[0;34m=\u001b[0m \u001b[0mbootstrap\u001b[0m\u001b[0;34m(\u001b[0m\u001b[0mvals\u001b[0m\u001b[0;34m,\u001b[0m \u001b[0mfunc\u001b[0m\u001b[0;34m=\u001b[0m\u001b[0mfunc\u001b[0m\u001b[0;34m,\u001b[0m \u001b[0mn_boot\u001b[0m\u001b[0;34m=\u001b[0m\u001b[0mn_boot\u001b[0m\u001b[0;34m,\u001b[0m \u001b[0mseed\u001b[0m\u001b[0;34m=\u001b[0m\u001b[0mseed\u001b[0m\u001b[0;34m)\u001b[0m\u001b[0;34m\u001b[0m\u001b[0;34m\u001b[0m\u001b[0m\n\u001b[0m\u001b[1;32m    734\u001b[0m             \u001b[0mcis\u001b[0m \u001b[0;34m=\u001b[0m \u001b[0mutils\u001b[0m\u001b[0;34m.\u001b[0m\u001b[0mci\u001b[0m\u001b[0;34m(\u001b[0m\u001b[0mboots\u001b[0m\u001b[0;34m,\u001b[0m \u001b[0mci\u001b[0m\u001b[0;34m)\u001b[0m\u001b[0;34m\u001b[0m\u001b[0;34m\u001b[0m\u001b[0m\n\u001b[1;32m    735\u001b[0m             \u001b[0;32mreturn\u001b[0m \u001b[0mpd\u001b[0m\u001b[0;34m.\u001b[0m\u001b[0mSeries\u001b[0m\u001b[0;34m(\u001b[0m\u001b[0mcis\u001b[0m\u001b[0;34m,\u001b[0m \u001b[0;34m[\u001b[0m\u001b[0;34m\"low\"\u001b[0m\u001b[0;34m,\u001b[0m \u001b[0;34m\"high\"\u001b[0m\u001b[0;34m]\u001b[0m\u001b[0;34m)\u001b[0m\u001b[0;34m\u001b[0m\u001b[0;34m\u001b[0m\u001b[0m\n",
      "\u001b[0;32m~/git/wearable-my-foot/notebooks/env/lib64/python3.8/site-packages/seaborn/algorithms.py\u001b[0m in \u001b[0;36mbootstrap\u001b[0;34m(*args, **kwargs)\u001b[0m\n\u001b[1;32m     81\u001b[0m     \u001b[0mboot_dist\u001b[0m \u001b[0;34m=\u001b[0m \u001b[0;34m[\u001b[0m\u001b[0;34m]\u001b[0m\u001b[0;34m\u001b[0m\u001b[0;34m\u001b[0m\u001b[0m\n\u001b[1;32m     82\u001b[0m     \u001b[0;32mfor\u001b[0m \u001b[0mi\u001b[0m \u001b[0;32min\u001b[0m \u001b[0mrange\u001b[0m\u001b[0;34m(\u001b[0m\u001b[0mint\u001b[0m\u001b[0;34m(\u001b[0m\u001b[0mn_boot\u001b[0m\u001b[0;34m)\u001b[0m\u001b[0;34m)\u001b[0m\u001b[0;34m:\u001b[0m\u001b[0;34m\u001b[0m\u001b[0;34m\u001b[0m\u001b[0m\n\u001b[0;32m---> 83\u001b[0;31m         \u001b[0mresampler\u001b[0m \u001b[0;34m=\u001b[0m \u001b[0mintegers\u001b[0m\u001b[0;34m(\u001b[0m\u001b[0;36m0\u001b[0m\u001b[0;34m,\u001b[0m \u001b[0mn\u001b[0m\u001b[0;34m,\u001b[0m \u001b[0mn\u001b[0m\u001b[0;34m,\u001b[0m \u001b[0mdtype\u001b[0m\u001b[0;34m=\u001b[0m\u001b[0mnp\u001b[0m\u001b[0;34m.\u001b[0m\u001b[0mintp\u001b[0m\u001b[0;34m)\u001b[0m  \u001b[0;31m# intp is indexing dtype\u001b[0m\u001b[0;34m\u001b[0m\u001b[0;34m\u001b[0m\u001b[0m\n\u001b[0m\u001b[1;32m     84\u001b[0m         \u001b[0msample\u001b[0m \u001b[0;34m=\u001b[0m \u001b[0;34m[\u001b[0m\u001b[0ma\u001b[0m\u001b[0;34m.\u001b[0m\u001b[0mtake\u001b[0m\u001b[0;34m(\u001b[0m\u001b[0mresampler\u001b[0m\u001b[0;34m,\u001b[0m \u001b[0maxis\u001b[0m\u001b[0;34m=\u001b[0m\u001b[0;36m0\u001b[0m\u001b[0;34m)\u001b[0m \u001b[0;32mfor\u001b[0m \u001b[0ma\u001b[0m \u001b[0;32min\u001b[0m \u001b[0margs\u001b[0m\u001b[0;34m]\u001b[0m\u001b[0;34m\u001b[0m\u001b[0;34m\u001b[0m\u001b[0m\n\u001b[1;32m     85\u001b[0m         \u001b[0mboot_dist\u001b[0m\u001b[0;34m.\u001b[0m\u001b[0mappend\u001b[0m\u001b[0;34m(\u001b[0m\u001b[0mf\u001b[0m\u001b[0;34m(\u001b[0m\u001b[0;34m*\u001b[0m\u001b[0msample\u001b[0m\u001b[0;34m,\u001b[0m \u001b[0;34m**\u001b[0m\u001b[0mfunc_kwargs\u001b[0m\u001b[0;34m)\u001b[0m\u001b[0;34m)\u001b[0m\u001b[0;34m\u001b[0m\u001b[0;34m\u001b[0m\u001b[0m\n",
      "\u001b[0;32m_generator.pyx\u001b[0m in \u001b[0;36mnumpy.random._generator.Generator.integers\u001b[0;34m()\u001b[0m\n",
      "\u001b[0;32m_bounded_integers.pyx\u001b[0m in \u001b[0;36mnumpy.random._bounded_integers._rand_int64\u001b[0;34m()\u001b[0m\n",
      "\u001b[0;32m<__array_function__ internals>\u001b[0m in \u001b[0;36mprod\u001b[0;34m(*args, **kwargs)\u001b[0m\n",
      "\u001b[0;31mKeyboardInterrupt\u001b[0m: "
     ]
    },
    {
     "data": {
      "image/png": "[encoded data removed]",
      "text/plain": [
       "<Figure size 432x288 with 1 Axes>"
      ]
     },
     "metadata": {
      "needs_background": "light"
     },
     "output_type": "display_data"
    }
   ],
   "source": [
    "sns.lineplot(data=acceleration, x=\"datetime\", y=\"magnitude\")"
   ]
  },
  {
   "cell_type": "code",
   "execution_count": 210,
   "metadata": {},
   "outputs": [],
   "source": [
    "acceleration.loc[1:, \"dt\"] = [(a - b) / pd.Timedelta(\"1ms\") for a, b in zip(acceleration.datetime.loc[1:], acceleration.datetime.iloc[:-1])]"
   ]
  },
  {
   "cell_type": "code",
   "execution_count": 211,
   "metadata": {},
   "outputs": [],
   "source": [
    "acceleration.loc[1:,[\"dvX\", \"dvY\", \"dvZ\"]] = acceleration.loc[1:, [\"aX\", \"aY\", \"aZ\"]].mul(acceleration.dt.loc[1:], axis=0)"
   ]
  },
  {
   "cell_type": "code",
   "execution_count": 212,
   "metadata": {},
   "outputs": [
    {
     "data": {
      "text/html": [
       "<div>\n",
       "<style scoped>\n",
       "    .dataframe tbody tr th:only-of-type {\n",
       "        vertical-align: middle;\n",
       "    }\n",
       "\n",
       "    .dataframe tbody tr th {\n",
       "        vertical-align: top;\n",
       "    }\n",
       "\n",
       "    .dataframe thead th {\n",
       "        text-align: right;\n",
       "    }\n",
       "</style>\n",
       "<table border=\"1\" class=\"dataframe\">\n",
       "  <thead>\n",
       "    <tr style=\"text-align: right;\">\n",
       "      <th></th>\n",
       "      <th>aX</th>\n",
       "      <th>aY</th>\n",
       "      <th>aZ</th>\n",
       "      <th>datetime</th>\n",
       "      <th>magnitude</th>\n",
       "      <th>dt</th>\n",
       "      <th>dvX</th>\n",
       "      <th>dvY</th>\n",
       "      <th>dvZ</th>\n",
       "    </tr>\n",
       "  </thead>\n",
       "  <tbody>\n",
       "    <tr>\n",
       "      <th>0</th>\n",
       "      <td>0.004281</td>\n",
       "      <td>0.010099</td>\n",
       "      <td>-0.040560</td>\n",
       "      <td>2020-08-25 06:10:00.035000+00:00</td>\n",
       "      <td>0.042017</td>\n",
       "      <td>NaN</td>\n",
       "      <td>NaN</td>\n",
       "      <td>NaN</td>\n",
       "      <td>NaN</td>\n",
       "    </tr>\n",
       "    <tr>\n",
       "      <th>1</th>\n",
       "      <td>-0.004264</td>\n",
       "      <td>0.023649</td>\n",
       "      <td>-0.036287</td>\n",
       "      <td>2020-08-25 06:10:00.491000+00:00</td>\n",
       "      <td>0.043523</td>\n",
       "      <td>456.0</td>\n",
       "      <td>NaN</td>\n",
       "      <td>NaN</td>\n",
       "      <td>NaN</td>\n",
       "    </tr>\n",
       "    <tr>\n",
       "      <th>2</th>\n",
       "      <td>-0.004264</td>\n",
       "      <td>0.023649</td>\n",
       "      <td>-0.036287</td>\n",
       "      <td>2020-08-25 06:10:00.493000+00:00</td>\n",
       "      <td>0.043523</td>\n",
       "      <td>2.0</td>\n",
       "      <td>NaN</td>\n",
       "      <td>NaN</td>\n",
       "      <td>NaN</td>\n",
       "    </tr>\n",
       "    <tr>\n",
       "      <th>3</th>\n",
       "      <td>-0.002799</td>\n",
       "      <td>0.021818</td>\n",
       "      <td>-0.032869</td>\n",
       "      <td>2020-08-25 06:10:01.038000+00:00</td>\n",
       "      <td>0.039551</td>\n",
       "      <td>545.0</td>\n",
       "      <td>NaN</td>\n",
       "      <td>NaN</td>\n",
       "      <td>NaN</td>\n",
       "    </tr>\n",
       "    <tr>\n",
       "      <th>4</th>\n",
       "      <td>-0.002799</td>\n",
       "      <td>0.021818</td>\n",
       "      <td>-0.032869</td>\n",
       "      <td>2020-08-25 06:10:01.044000+00:00</td>\n",
       "      <td>0.039551</td>\n",
       "      <td>6.0</td>\n",
       "      <td>NaN</td>\n",
       "      <td>NaN</td>\n",
       "      <td>NaN</td>\n",
       "    </tr>\n",
       "    <tr>\n",
       "      <th>...</th>\n",
       "      <td>...</td>\n",
       "      <td>...</td>\n",
       "      <td>...</td>\n",
       "      <td>...</td>\n",
       "      <td>...</td>\n",
       "      <td>...</td>\n",
       "      <td>...</td>\n",
       "      <td>...</td>\n",
       "      <td>...</td>\n",
       "    </tr>\n",
       "    <tr>\n",
       "      <th>284</th>\n",
       "      <td>0.000130</td>\n",
       "      <td>-0.058993</td>\n",
       "      <td>0.021818</td>\n",
       "      <td>2020-08-25 06:11:11.018000+00:00</td>\n",
       "      <td>0.062898</td>\n",
       "      <td>29.0</td>\n",
       "      <td>NaN</td>\n",
       "      <td>NaN</td>\n",
       "      <td>NaN</td>\n",
       "    </tr>\n",
       "    <tr>\n",
       "      <th>285</th>\n",
       "      <td>-0.001335</td>\n",
       "      <td>-0.061190</td>\n",
       "      <td>0.029508</td>\n",
       "      <td>2020-08-25 06:11:11.488000+00:00</td>\n",
       "      <td>0.067946</td>\n",
       "      <td>470.0</td>\n",
       "      <td>NaN</td>\n",
       "      <td>NaN</td>\n",
       "      <td>NaN</td>\n",
       "    </tr>\n",
       "    <tr>\n",
       "      <th>286</th>\n",
       "      <td>-0.001335</td>\n",
       "      <td>-0.061190</td>\n",
       "      <td>0.029508</td>\n",
       "      <td>2020-08-25 06:11:11.515000+00:00</td>\n",
       "      <td>0.067946</td>\n",
       "      <td>27.0</td>\n",
       "      <td>NaN</td>\n",
       "      <td>NaN</td>\n",
       "      <td>NaN</td>\n",
       "    </tr>\n",
       "    <tr>\n",
       "      <th>287</th>\n",
       "      <td>0.001229</td>\n",
       "      <td>-0.061312</td>\n",
       "      <td>0.028532</td>\n",
       "      <td>2020-08-25 06:11:11.991000+00:00</td>\n",
       "      <td>0.067637</td>\n",
       "      <td>476.0</td>\n",
       "      <td>NaN</td>\n",
       "      <td>NaN</td>\n",
       "      <td>NaN</td>\n",
       "    </tr>\n",
       "    <tr>\n",
       "      <th>288</th>\n",
       "      <td>0.000374</td>\n",
       "      <td>-0.056795</td>\n",
       "      <td>0.025602</td>\n",
       "      <td>2020-08-25 06:11:12.486000+00:00</td>\n",
       "      <td>0.062300</td>\n",
       "      <td>495.0</td>\n",
       "      <td>NaN</td>\n",
       "      <td>NaN</td>\n",
       "      <td>NaN</td>\n",
       "    </tr>\n",
       "  </tbody>\n",
       "</table>\n",
       "<p>289 rows × 9 columns</p>\n",
       "</div>"
      ],
      "text/plain": [
       "           aX        aY        aZ                         datetime  magnitude  \\\n",
       "0    0.004281  0.010099 -0.040560 2020-08-25 06:10:00.035000+00:00   0.042017   \n",
       "1   -0.004264  0.023649 -0.036287 2020-08-25 06:10:00.491000+00:00   0.043523   \n",
       "2   -0.004264  0.023649 -0.036287 2020-08-25 06:10:00.493000+00:00   0.043523   \n",
       "3   -0.002799  0.021818 -0.032869 2020-08-25 06:10:01.038000+00:00   0.039551   \n",
       "4   -0.002799  0.021818 -0.032869 2020-08-25 06:10:01.044000+00:00   0.039551   \n",
       "..        ...       ...       ...                              ...        ...   \n",
       "284  0.000130 -0.058993  0.021818 2020-08-25 06:11:11.018000+00:00   0.062898   \n",
       "285 -0.001335 -0.061190  0.029508 2020-08-25 06:11:11.488000+00:00   0.067946   \n",
       "286 -0.001335 -0.061190  0.029508 2020-08-25 06:11:11.515000+00:00   0.067946   \n",
       "287  0.001229 -0.061312  0.028532 2020-08-25 06:11:11.991000+00:00   0.067637   \n",
       "288  0.000374 -0.056795  0.025602 2020-08-25 06:11:12.486000+00:00   0.062300   \n",
       "\n",
       "        dt  dvX  dvY  dvZ  \n",
       "0      NaN  NaN  NaN  NaN  \n",
       "1    456.0  NaN  NaN  NaN  \n",
       "2      2.0  NaN  NaN  NaN  \n",
       "3    545.0  NaN  NaN  NaN  \n",
       "4      6.0  NaN  NaN  NaN  \n",
       "..     ...  ...  ...  ...  \n",
       "284   29.0  NaN  NaN  NaN  \n",
       "285  470.0  NaN  NaN  NaN  \n",
       "286   27.0  NaN  NaN  NaN  \n",
       "287  476.0  NaN  NaN  NaN  \n",
       "288  495.0  NaN  NaN  NaN  \n",
       "\n",
       "[289 rows x 9 columns]"
      ]
     },
     "execution_count": 212,
     "metadata": {},
     "output_type": "execute_result"
    }
   ],
   "source": [
    "acceleration"
   ]
  },
  {
   "cell_type": "code",
   "execution_count": 213,
   "metadata": {},
   "outputs": [
    {
     "data": {
      "text/html": [
       "<div>\n",
       "<style scoped>\n",
       "    .dataframe tbody tr th:only-of-type {\n",
       "        vertical-align: middle;\n",
       "    }\n",
       "\n",
       "    .dataframe tbody tr th {\n",
       "        vertical-align: top;\n",
       "    }\n",
       "\n",
       "    .dataframe thead th {\n",
       "        text-align: right;\n",
       "    }\n",
       "</style>\n",
       "<table border=\"1\" class=\"dataframe\">\n",
       "  <thead>\n",
       "    <tr style=\"text-align: right;\">\n",
       "      <th></th>\n",
       "      <th>aX</th>\n",
       "      <th>aY</th>\n",
       "      <th>aZ</th>\n",
       "    </tr>\n",
       "  </thead>\n",
       "  <tbody>\n",
       "    <tr>\n",
       "      <th>1</th>\n",
       "      <td>-1.944538</td>\n",
       "      <td>10.783984</td>\n",
       "      <td>-16.547070</td>\n",
       "    </tr>\n",
       "    <tr>\n",
       "      <th>2</th>\n",
       "      <td>-1.953066</td>\n",
       "      <td>10.831282</td>\n",
       "      <td>-16.619645</td>\n",
       "    </tr>\n",
       "    <tr>\n",
       "      <th>3</th>\n",
       "      <td>-3.478786</td>\n",
       "      <td>22.722111</td>\n",
       "      <td>-34.533506</td>\n",
       "    </tr>\n",
       "    <tr>\n",
       "      <th>4</th>\n",
       "      <td>-3.495583</td>\n",
       "      <td>22.853019</td>\n",
       "      <td>-34.730723</td>\n",
       "    </tr>\n",
       "    <tr>\n",
       "      <th>5</th>\n",
       "      <td>-4.975065</td>\n",
       "      <td>27.452628</td>\n",
       "      <td>-52.762950</td>\n",
       "    </tr>\n",
       "    <tr>\n",
       "      <th>...</th>\n",
       "      <td>...</td>\n",
       "      <td>...</td>\n",
       "      <td>...</td>\n",
       "    </tr>\n",
       "    <tr>\n",
       "      <th>284</th>\n",
       "      <td>1382.021047</td>\n",
       "      <td>-8545.413332</td>\n",
       "      <td>-3969.724718</td>\n",
       "    </tr>\n",
       "    <tr>\n",
       "      <th>285</th>\n",
       "      <td>1381.393768</td>\n",
       "      <td>-8574.172528</td>\n",
       "      <td>-3955.855741</td>\n",
       "    </tr>\n",
       "    <tr>\n",
       "      <th>286</th>\n",
       "      <td>1381.357733</td>\n",
       "      <td>-8575.824652</td>\n",
       "      <td>-3955.059012</td>\n",
       "    </tr>\n",
       "    <tr>\n",
       "      <th>287</th>\n",
       "      <td>1381.942672</td>\n",
       "      <td>-8605.009092</td>\n",
       "      <td>-3941.477827</td>\n",
       "    </tr>\n",
       "    <tr>\n",
       "      <th>288</th>\n",
       "      <td>1382.127982</td>\n",
       "      <td>-8633.122740</td>\n",
       "      <td>-3928.804732</td>\n",
       "    </tr>\n",
       "  </tbody>\n",
       "</table>\n",
       "<p>288 rows × 3 columns</p>\n",
       "</div>"
      ],
      "text/plain": [
       "              aX           aY           aZ\n",
       "1      -1.944538    10.783984   -16.547070\n",
       "2      -1.953066    10.831282   -16.619645\n",
       "3      -3.478786    22.722111   -34.533506\n",
       "4      -3.495583    22.853019   -34.730723\n",
       "5      -4.975065    27.452628   -52.762950\n",
       "..           ...          ...          ...\n",
       "284  1382.021047 -8545.413332 -3969.724718\n",
       "285  1381.393768 -8574.172528 -3955.855741\n",
       "286  1381.357733 -8575.824652 -3955.059012\n",
       "287  1381.942672 -8605.009092 -3941.477827\n",
       "288  1382.127982 -8633.122740 -3928.804732\n",
       "\n",
       "[288 rows x 3 columns]"
      ]
     },
     "execution_count": 213,
     "metadata": {},
     "output_type": "execute_result"
    }
   ],
   "source": [
    "df2 = acceleration.loc[1:, [\"aX\", \"aY\", \"aZ\"]].mul(acceleration.dt[1:], axis=0).cumsum(axis=0)\n",
    "df2"
   ]
  },
  {
   "cell_type": "code",
   "execution_count": 214,
   "metadata": {},
   "outputs": [
    {
     "data": {
      "text/plain": [
       "<AxesSubplot:xlabel='datetime', ylabel='aX'>"
      ]
     },
     "execution_count": 214,
     "metadata": {},
     "output_type": "execute_result"
    },
    {
     "data": {
      "image/png": "[encoded data removed]",
      "text/plain": [
       "<Figure size 432x288 with 1 Axes>"
      ]
     },
     "metadata": {
      "needs_background": "light"
     },
     "output_type": "display_data"
    }
   ],
   "source": [
    "sns.lineplot(x=acceleration.datetime[1:], y=df2.aX)\n",
    "# sns.lineplot(data=df2, x=acceleration.datetime[1:], y=\"aY\")\n",
    "# sns.lineplot(data=df2, x=acceleration.datetime[1:], y=\"aZ\")"
   ]
  },
  {
   "cell_type": "code",
   "execution_count": 215,
   "metadata": {},
   "outputs": [
    {
     "data": {
      "text/plain": [
       "[456.0,\n",
       " 2.0,\n",
       " 545.0,\n",
       " 6.0,\n",
       " 450.0,\n",
       " 5.0,\n",
       " 490.0,\n",
       " 6.0,\n",
       " 495.0,\n",
       " 7.0,\n",
       " 491.0,\n",
       " 4.0,\n",
       " 598.0,\n",
       " 7.0,\n",
       " 390.0,\n",
       " 37.0,\n",
       " 461.0,\n",
       " 28.0,\n",
       " 477.0,\n",
       " 6.0,\n",
       " 491.0,\n",
       " 46.0,\n",
       " 454.0,\n",
       " 33.0,\n",
       " 518.0,\n",
       " 5.0,\n",
       " 447.0,\n",
       " 5.0,\n",
       " 495.0,\n",
       " 6.0,\n",
       " 488.0,\n",
       " 39.0,\n",
       " 464.0,\n",
       " 6.0,\n",
       " 494.0,\n",
       " 32.0,\n",
       " 465.0,\n",
       " 25.0,\n",
       " 480.0,\n",
       " 2.0,\n",
       " 494.0,\n",
       " 36.0,\n",
       " 465.0,\n",
       " 2.0,\n",
       " 497.0,\n",
       " 4.0,\n",
       " 499.0,\n",
       " 5.0,\n",
       " 491.0,\n",
       " 23.0,\n",
       " 484.0,\n",
       " 5.0,\n",
       " 543.0,\n",
       " 29.0,\n",
       " 416.0,\n",
       " 33.0,\n",
       " 477.0,\n",
       " 5.0,\n",
       " 586.0,\n",
       " 4.0,\n",
       " 401.0,\n",
       " 4.0,\n",
       " 496.0,\n",
       " 5.0,\n",
       " 490.0,\n",
       " 34.0,\n",
       " 471.0,\n",
       " 30.0,\n",
       " 469.0,\n",
       " 4.0,\n",
       " 494.0,\n",
       " 22.0,\n",
       " 529.0,\n",
       " 4.0,\n",
       " 446.0,\n",
       " 5.0,\n",
       " 494.0,\n",
       " 4.0,\n",
       " 498.0,\n",
       " 4.0,\n",
       " 595.0,\n",
       " 36.0,\n",
       " 363.0,\n",
       " 20.0,\n",
       " 485.0,\n",
       " 4.0,\n",
       " 491.0,\n",
       " 35.0,\n",
       " 466.0,\n",
       " 31.0,\n",
       " 465.0,\n",
       " 25.0,\n",
       " 479.0,\n",
       " 5.0,\n",
       " 554.0,\n",
       " 33.0,\n",
       " 405.0,\n",
       " 21.0,\n",
       " 479.0,\n",
       " 4.0,\n",
       " 498.0,\n",
       " 6.0,\n",
       " 496.0,\n",
       " 2.0,\n",
       " 497.0,\n",
       " 4.0,\n",
       " 496.0,\n",
       " 3.0,\n",
       " 496.0,\n",
       " 6.0,\n",
       " 492.0,\n",
       " 4.0,\n",
       " 499.0,\n",
       " 3.0,\n",
       " 502.0,\n",
       " 2.0,\n",
       " 490.0,\n",
       " 5.0,\n",
       " 497.0,\n",
       " 10.0,\n",
       " 492.0,\n",
       " 2.0,\n",
       " 545.0,\n",
       " 3.0,\n",
       " 447.0,\n",
       " 15.0,\n",
       " 485.0,\n",
       " 6.0,\n",
       " 495.0,\n",
       " 4.0,\n",
       " 500.0,\n",
       " 2.0,\n",
       " 497.0,\n",
       " 2.0,\n",
       " 496.0,\n",
       " 4.0,\n",
       " 504.0,\n",
       " 1.0,\n",
       " 493.0,\n",
       " 4.0,\n",
       " 494.0,\n",
       " 4.0,\n",
       " 551.0,\n",
       " 5.0,\n",
       " 442.0,\n",
       " 2.0,\n",
       " 496.0,\n",
       " 6.0,\n",
       " 497.0,\n",
       " 3.0,\n",
       " 499.0,\n",
       " 3.0,\n",
       " 491.0,\n",
       " 7.0,\n",
       " 496.0,\n",
       " 2.0,\n",
       " 497.0,\n",
       " 6.0,\n",
       " 493.0,\n",
       " 3.0,\n",
       " 501.0,\n",
       " 2.0,\n",
       " 498.0,\n",
       " 2.0,\n",
       " 495.0,\n",
       " 2.0,\n",
       " 501.0,\n",
       " 2.0,\n",
       " 493.0,\n",
       " 4.0,\n",
       " 500.0,\n",
       " 2.0,\n",
       " 497.0,\n",
       " 3.0,\n",
       " 494.0,\n",
       " 2.0,\n",
       " 502.0,\n",
       " 2.0,\n",
       " 496.0,\n",
       " 7.0,\n",
       " 494.0,\n",
       " 2.0,\n",
       " 495.0,\n",
       " 1.0,\n",
       " 495.0,\n",
       " 3.0,\n",
       " 500.0,\n",
       " 3.0,\n",
       " 503.0,\n",
       " 5.0,\n",
       " 492.0,\n",
       " 3.0,\n",
       " 498.0,\n",
       " 4.0,\n",
       " 490.0,\n",
       " 4.0,\n",
       " 501.0,\n",
       " 3.0,\n",
       " 494.0,\n",
       " 5.0,\n",
       " 499.0,\n",
       " 3.0,\n",
       " 494.0,\n",
       " 7.0,\n",
       " 493.0,\n",
       " 5.0,\n",
       " 496.0,\n",
       " 9.0,\n",
       " 489.0,\n",
       " 6.0,\n",
       " 496.0,\n",
       " 6.0,\n",
       " 495.0,\n",
       " 2.0,\n",
       " 496.0,\n",
       " 10.0,\n",
       " 493.0,\n",
       " 2.0,\n",
       " 497.0,\n",
       " 4.0,\n",
       " 498.0,\n",
       " 2.0,\n",
       " 494.0,\n",
       " 4.0,\n",
       " 498.0,\n",
       " 3.0,\n",
       " 496.0,\n",
       " 2.0,\n",
       " 498.0,\n",
       " 5.0,\n",
       " 495.0,\n",
       " 2.0,\n",
       " 496.0,\n",
       " 6.0,\n",
       " 494.0,\n",
       " 7.0,\n",
       " 495.0,\n",
       " 1.0,\n",
       " 499.0,\n",
       " 2.0,\n",
       " 499.0,\n",
       " 2.0,\n",
       " 495.0,\n",
       " 4.0,\n",
       " 495.0,\n",
       " 5.0,\n",
       " 496.0,\n",
       " 5.0,\n",
       " 498.0,\n",
       " 2.0,\n",
       " 545.0,\n",
       " 1.0,\n",
       " 451.0,\n",
       " 4.0,\n",
       " 494.0,\n",
       " 5.0,\n",
       " 498.0,\n",
       " 2.0,\n",
       " 495.0,\n",
       " 3.0,\n",
       " 493.0,\n",
       " 11.0,\n",
       " 486.0,\n",
       " 1.0,\n",
       " 505.0,\n",
       " 34.0,\n",
       " 466.0,\n",
       " 2.0,\n",
       " 498.0,\n",
       " 20.0,\n",
       " 486.0,\n",
       " 3.0,\n",
       " 493.0,\n",
       " 38.0,\n",
       " 461.0,\n",
       " 36.0,\n",
       " 466.0,\n",
       " 3.0,\n",
       " 494.0,\n",
       " 3.0,\n",
       " 496.0,\n",
       " 19.0,\n",
       " 486.0,\n",
       " 29.0,\n",
       " 470.0,\n",
       " 27.0,\n",
       " 476.0,\n",
       " 495.0]"
      ]
     },
     "execution_count": 215,
     "metadata": {},
     "output_type": "execute_result"
    }
   ],
   "source": [
    "[(a - b) / pd.Timedelta(\"1ms\") for a, b in zip(acceleration.datetime.loc[1:], acceleration.datetime.iloc[:-1])]"
   ]
  },
  {
   "cell_type": "code",
   "execution_count": null,
   "metadata": {},
   "outputs": [],
   "source": []
  },
  {
   "cell_type": "code",
   "execution_count": 216,
   "metadata": {},
   "outputs": [
    {
     "data": {
      "text/plain": [
       "<AxesSubplot:xlabel='datetime', ylabel='gZ'>"
      ]
     },
     "execution_count": 216,
     "metadata": {},
     "output_type": "execute_result"
    },
    {
     "data": {
      "image/png": "[encoded data removed]",
      "text/plain": [
       "<Figure size 432x288 with 1 Axes>"
      ]
     },
     "metadata": {
      "needs_background": "light"
     },
     "output_type": "display_data"
    }
   ],
   "source": [
    "sns.lineplot(data=df, x=\"datetime\", y=\"gX\")\n",
    "sns.lineplot(data=df, x=\"datetime\", y=\"gY\")\n",
    "sns.lineplot(data=df, x=\"datetime\", y=\"gZ\")"
   ]
  }
 ],
 "metadata": {
  "kernelspec": {
   "display_name": "Python 3",
   "language": "python",
   "name": "python3"
  },
  "language_info": {
   "codemirror_mode": {
    "name": "ipython",
    "version": 3
   },
   "file_extension": ".py",
   "mimetype": "text/x-python",
   "name": "python",
   "nbconvert_exporter": "python",
   "pygments_lexer": "ipython3",
   "version": "3.8.3"
  }
 },
 "nbformat": 4,
 "nbformat_minor": 4
}

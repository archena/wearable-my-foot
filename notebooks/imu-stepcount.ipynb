{
 "cells": [
  {
   "cell_type": "markdown",
   "metadata": {},
   "source": [
    "# Analysing steps in a short walk using acceleration and rotation\n",
    "\n",
    "In this noteboook we examine a recording from the Arduino IMU of a short walk with the aim to extract the step count, cadence and timings including ground time and step duration.\n",
    "\n",
    "We implement three techniques outlined in the paper `A comprehensive comparison of simple step counting techniques using wrist- and ankle-mounted accelerometer and gyroscope signals` by Matthew Rudy and Joseph Mahoney - [https://www.researchgate.net/publication/325451208_A_comprehensive_comparison_of_simple_step_counting_techniques_using_wrist-_and_ankle-mounted_accelerometer_and_gyroscope_signals](https://www.researchgate.net/publication/325451208_A_comprehensive_comparison_of_simple_step_counting_techniques_using_wrist-_and_ankle-mounted_accelerometer_and_gyroscope_signals).\n",
    "\n",
    "* Peak-finding\n",
    "* Fast Fourier Transform (FFT)\n",
    "* Autocorrelation\n",
    "\n",
    "Each of these methods allows us to count steps. The peak-finding method also identifies where the steps occur in the timeseries, so this in turn allows us to isolate steps and calculate such things as ground time and step duration.\n",
    "\n",
    "## The IMU\n",
    "\n",
    "The Arduino Nano inertial measurement unit gives us acceleration, measured in `g`s (`1g = 9.8m/s/s`), and rotation (angular velocity). In this notebook we demonstrate how to extract steps from either acceleration or rotation.\n",
    "\n",
    "## The data\n",
    "\n",
    "We expect a CSV file with columns for time, 3 axes of acceleration, and 3 axes of gyroscopic rotation."
   ]
  },
  {
   "cell_type": "markdown",
   "metadata": {},
   "source": [
    "## Setup"
   ]
  },
  {
   "cell_type": "code",
   "execution_count": null,
   "metadata": {},
   "outputs": [],
   "source": [
    "import pandas as pd\n",
    "import seaborn as sns\n",
    "from scipy.integrate import cumtrapz\n",
    "from scipy.signal import butter, filtfilt, periodogram, spectrogram, find_peaks\n",
    "import matplotlib.pyplot as plt\n",
    "sns.set(rc={'figure.figsize':(11, 4)})\n",
    "import numpy as np\n",
    "import gpxpy\n",
    "from xml.etree import ElementTree as ET\n",
    "from datetime import timedelta"
   ]
  },
  {
   "cell_type": "markdown",
   "metadata": {},
   "source": [
    "## Data import"
   ]
  },
  {
   "cell_type": "code",
   "execution_count": null,
   "metadata": {},
   "outputs": [],
   "source": [
    "data_file_path = \"../data/WearableMyFoot 1km backgarden run.csv\"\n",
    "output_file_path = \"../data/WearableMyFoot 1km backgarden run.gpx\"\n",
    "df = pd.read_csv(data_file_path)\n",
    "df.columns = [\"time\", \"aX\", \"aY\", \"aZ\", \"gX\", \"gY\", \"gZ\"]\n",
    "df.time = df.time - df.time.min()\n",
    "df"
   ]
  },
  {
   "cell_type": "markdown",
   "metadata": {},
   "source": [
    "## Key parameters"
   ]
  },
  {
   "cell_type": "code",
   "execution_count": null,
   "metadata": {},
   "outputs": [],
   "source": [
    "# params\n",
    "fs = 1000 / 10 # Hz, sampling frequency\n",
    "timestamp = pd.to_datetime(\"2020-09-04T14:34:10\")\n",
    "total_time = df.time.max() - df.time.min()"
   ]
  },
  {
   "cell_type": "markdown",
   "metadata": {},
   "source": [
    "## Helper functions"
   ]
  },
  {
   "cell_type": "code",
   "execution_count": null,
   "metadata": {},
   "outputs": [],
   "source": [
    "def get_time_period(a, b):\n",
    "    \"\"\"\n",
    "    a, b -- time in seconds\n",
    "    \"\"\"\n",
    "    return df.loc[(df.time >= a * 1000) & (df.time < b * 1000)]\n",
    "\n",
    "def low_pass(data, fc, fs):\n",
    "    w = fc / (fs / 2) # Normalize the frequency\n",
    "    b, a = butter(5, w, 'low')\n",
    "    return filtfilt(b, a, data)\n",
    "\n",
    "def get_magnitude(data, cutoff_frequency=None, fs=None):\n",
    "    magnitude = np.sqrt((data**2).sum(axis=1))\n",
    "    if cutoff_frequency is None:\n",
    "        return magnitude\n",
    "    else:\n",
    "        return low_pass(magnitude, cutoff_frequency, fs)\n",
    "\n",
    "def peak_detection_steps(data, pos_kwargs=None, neg_kwargs=None, plot=False):\n",
    "    peaks, _ = find_peaks(data, **pos_kwargs)\n",
    "    neg_peaks, _ = find_peaks(-data, **neg_kwargs)\n",
    "    if plot:\n",
    "        sns.lineplot(x=range(len(data)), y=data)\n",
    "        sns.scatterplot(x=peaks, y=data[peaks])\n",
    "        sns.scatterplot(x=neg_peaks, y=data[neg_peaks])\n",
    "        plt.show()\n",
    "    return len(peaks)\n",
    "\n",
    "def fft_dominant_freq(data, fs, plot=False):\n",
    "    f, Pxx = periodogram(data, fs=fs)\n",
    "    if plot:\n",
    "        sns.lineplot(f, Pxx)\n",
    "        plt.xlim([0.0,10.0])\n",
    "        plt.show()\n",
    "    return f[np.argmax(Pxx[10:])]\n",
    "\n",
    "def fft_steps(data, dt, fs, plot=False):\n",
    "    return dt * fft_dominant_freq(data, fs, plot) / 1000\n",
    "\n",
    "def autocorr(x):\n",
    "    result = np.correlate(x, x, mode='same')\n",
    "    return result[:]\n",
    "\n",
    "def autocorr_steps(data, plot=False):\n",
    "    corr = autocorr(data)\n",
    "    peaks, _ = find_peaks(corr)\n",
    "    if plot:\n",
    "        sns.lineplot(x=range(len(corr)), y=corr)\n",
    "        sns.scatterplot(x=peaks, y=corr[peaks])\n",
    "        plt.show()\n",
    "    return len(peaks)\n",
    "\n",
    "def to_steps_per_minute(step_count, dt):\n",
    "    \"\"\"\n",
    "    dt -- time in seconds\n",
    "    \"\"\"\n",
    "    return step_count / dt * 60\n",
    "\n",
    "def get_spm_for_period(a, b, columns, cutoff_frequency, peak_detection_kwargs={}):\n",
    "    dt = b - a\n",
    "    aMagnitude = get_magnitude(get_time_period(a, b).loc[:,columns], cutoff_frequency=cutoff_frequency, fs=fs)\n",
    "    n_peak_steps = peak_detection_steps(\n",
    "        aMagnitude, \n",
    "        **peak_detection_kwargs\n",
    "    )\n",
    "    dominant_freq = fft_dominant_freq(aMagnitude, fs=fs)\n",
    "    n_autocorr_steps = autocorr_steps(aMagnitude)\n",
    "    return pd.Series({\n",
    "        \"peak_detection_spm\": to_steps_per_minute(n_peak_steps, dt), \n",
    "        \"fft_spm\": dominant_freq * 60, \n",
    "        \"autocorrelation_spm\": to_steps_per_minute(n_autocorr_steps, dt), \n",
    "    })"
   ]
  },
  {
   "cell_type": "markdown",
   "metadata": {},
   "source": [
    "# Measuring steps from acceleration"
   ]
  },
  {
   "cell_type": "code",
   "execution_count": null,
   "metadata": {},
   "outputs": [],
   "source": [
    "sns.lineplot(x=df.time, y=df.aX, label=\"aX\")\n",
    "sns.lineplot(x=df.time, y=df.aY, label=\"aY\")\n",
    "sns.lineplot(x=df.time, y=df.aZ, label=\"aZ\")"
   ]
  },
  {
   "cell_type": "code",
   "execution_count": null,
   "metadata": {},
   "outputs": [],
   "source": [
    "_df = df.iloc[:9]\n",
    "sns.lineplot(x=_df.time, y=_df.aX, label=\"aX\")\n",
    "sns.lineplot(x=_df.time, y=_df.aY, label=\"aY\")\n",
    "sns.lineplot(x=_df.time, y=_df.aZ, label=\"aZ\")"
   ]
  },
  {
   "cell_type": "code",
   "execution_count": null,
   "metadata": {},
   "outputs": [],
   "source": [
    "gravity_vector = _df.loc[:,[\"aX\", \"aY\", \"aZ\"]].mean()\n",
    "(gravity_vector, (gravity_vector**2).sum())"
   ]
  },
  {
   "cell_type": "code",
   "execution_count": null,
   "metadata": {},
   "outputs": [],
   "source": [
    "df.loc[:,[\"aX\", \"aY\", \"aZ\"]] = (df.loc[:,[\"aX\", \"aY\", \"aZ\"]] - gravity_vector) * 9.8"
   ]
  },
  {
   "cell_type": "code",
   "execution_count": null,
   "metadata": {},
   "outputs": [],
   "source": [
    "f, t, Sxx = spectrogram(get_magnitude(df.loc[:,[\"aX\", \"aY\", \"aZ\"]], fs=fs), fs)\n",
    "plt.pcolormesh(t, f, Sxx, shading='gouraud')\n",
    "plt.ylabel('Frequency [Hz]')\n",
    "plt.xlabel('Time [sec]')\n",
    "plt.show()"
   ]
  },
  {
   "cell_type": "code",
   "execution_count": null,
   "metadata": {},
   "outputs": [],
   "source": [
    "aMagnitude = get_magnitude(df.loc[:,[\"aX\", \"aY\", \"aZ\"]], cutoff_frequency=None, fs=fs)\n",
    "n_peak_steps = peak_detection_steps(\n",
    "    aMagnitude, \n",
    "    pos_kwargs={\n",
    "        \"prominence\": 2,\n",
    "        \"distance\": 3\n",
    "    }, \n",
    "    neg_kwargs={\n",
    "        \"prominence\": 1\n",
    "    },\n",
    "    plot=True\n",
    ")\n",
    "n_fft_steps = fft_steps(aMagnitude, dt=total_time, fs=fs, plot=True)\n",
    "n_autocorr_steps = autocorr_steps(aMagnitude, plot=True)\n",
    "print(n_peak_steps, n_fft_steps, n_autocorr_steps)\n",
    "print(\n",
    "    to_steps_per_minute(n_peak_steps, total_time / 1000), \n",
    "    to_steps_per_minute(n_fft_steps, total_time / 1000), \n",
    "    to_steps_per_minute(n_autocorr_steps, total_time / 1000), \n",
    ")"
   ]
  },
  {
   "cell_type": "code",
   "execution_count": null,
   "metadata": {},
   "outputs": [],
   "source": [
    "sns.lineplot(x=range(100), y=aMagnitude[10000:10100])"
   ]
  },
  {
   "cell_type": "code",
   "execution_count": null,
   "metadata": {},
   "outputs": [],
   "source": [
    "peak_detection_kwargs = {\n",
    "    \"pos_kwargs\": {\n",
    "        \"prominence\": 2,\n",
    "        \"distance\": 200\n",
    "    }, \n",
    "    \"neg_kwargs\": {\n",
    "        \"prominence\": 1\n",
    "    },\n",
    "}\n",
    "\n",
    "spms = []\n",
    "dt = 10\n",
    "for a in np.arange(0, df.time.max() / 1000, dt):\n",
    "    b = a + dt\n",
    "    spm = get_spm_for_period(a, b, [\"aX\", \"aY\", \"aZ\"], cutoff_frequency=1.8, peak_detection_kwargs=peak_detection_kwargs)\n",
    "    spm.name = a\n",
    "    spms += [spm]\n",
    "spm_df = pd.DataFrame(spms)\n",
    "spm_df.plot()\n",
    "spm_df.describe()"
   ]
  },
  {
   "cell_type": "markdown",
   "metadata": {},
   "source": [
    "# Measuring steps from rotation"
   ]
  },
  {
   "cell_type": "code",
   "execution_count": null,
   "metadata": {},
   "outputs": [],
   "source": [
    "sns.lineplot(x=df.time, y=df.gX, label=\"gX\")\n",
    "sns.lineplot(x=df.time, y=df.gY, label=\"gY\")\n",
    "sns.lineplot(x=df.time, y=df.gZ, label=\"gZ\")"
   ]
  },
  {
   "cell_type": "code",
   "execution_count": null,
   "metadata": {},
   "outputs": [],
   "source": [
    "f, t, Sxx = spectrogram(get_magnitude(df.loc[:,[\"gX\", \"gY\", \"gZ\"]], fs=fs), fs)\n",
    "plt.pcolormesh(t, f, Sxx, shading='gouraud')\n",
    "plt.ylabel('Frequency [Hz]')\n",
    "plt.xlabel('Time [sec]')\n",
    "plt.show()"
   ]
  },
  {
   "cell_type": "code",
   "execution_count": null,
   "metadata": {},
   "outputs": [],
   "source": [
    "gMagnitude = get_magnitude(df.loc[:,[\"gX\", \"gY\", \"gZ\"]], cutoff_frequency=2.0, fs=fs)\n",
    "n_peak_steps = peak_detection_steps(\n",
    "    gMagnitude, \n",
    "    pos_kwargs={\n",
    "        \"prominence\": 2,\n",
    "        \"distance\": 3\n",
    "    }, \n",
    "    neg_kwargs={\n",
    "        \"prominence\": 1\n",
    "    },\n",
    "    plot=True\n",
    ")\n",
    "n_fft_steps = fft_steps(gMagnitude, dt=1000, fs=fs, plot=True)\n",
    "n_autocorr_steps = autocorr_steps(gMagnitude, plot=True)\n",
    "print(n_peak_steps, n_fft_steps, n_autocorr_steps)\n",
    "print(\n",
    "    to_steps_per_minute(n_peak_steps, total_time / 1000), \n",
    "    to_steps_per_minute(n_fft_steps, total_time / 1000), \n",
    "    to_steps_per_minute(n_autocorr_steps, total_time / 1000), \n",
    ")"
   ]
  },
  {
   "cell_type": "code",
   "execution_count": null,
   "metadata": {},
   "outputs": [],
   "source": [
    "peak_detection_kwargs = {\n",
    "    \"pos_kwargs\": {\n",
    "        \"height\": (50, None)\n",
    "    }, \n",
    "    \"neg_kwargs\": {\n",
    "        \"prominence\": 1\n",
    "    },\n",
    "}\n",
    "\n",
    "spms = []\n",
    "dt = 1\n",
    "for a in np.arange(0, df.time.max() / 1000, dt):\n",
    "    b = a + dt\n",
    "    spm = get_spm_for_period(a, b, [\"gX\", \"gY\", \"gZ\"], cutoff_frequency=2.0, peak_detection_kwargs=peak_detection_kwargs)\n",
    "    spm.name = a\n",
    "    spms += [spm]\n",
    "spm_df = pd.DataFrame(spms)\n",
    "spm_df.plot()\n",
    "spm_df.describe()\n"
   ]
  },
  {
   "cell_type": "markdown",
   "metadata": {},
   "source": [
    "# Export GPX\n",
    "Contains a track with cadence"
   ]
  },
  {
   "cell_type": "code",
   "execution_count": null,
   "metadata": {},
   "outputs": [],
   "source": [
    "def get_cadence_extension(cadence):\n",
    "    prefix = \"gpxtrx:\"\n",
    "#     prefix = \"{http://www.garmin.com/xmlschemas/TrackPointExtension/v1}\"\n",
    "    element = ET.Element(f\"{prefix}TrackPointExtension\")\n",
    "    cadence_element = ET.SubElement(element, f\"{prefix}cad\")\n",
    "    # Schema only permits integers up to 254\n",
    "    cadence_element.text = str(int(cadence if cadence <= 254 else 254))\n",
    "    return element\n",
    "\n",
    "def get_point(time, cadence):\n",
    "    extensions = [get_cadence_extension(cadence)]\n",
    "    point = gpxpy.gpx.GPXTrackPoint()\n",
    "    point.extensions = extensions\n",
    "    point.time = time\n",
    "    return point\n",
    "\n",
    "def get_gpx(data):\n",
    "    \"\"\"\n",
    "    data -- pandas DataFrame with time and cadence fields\n",
    "    \"\"\"\n",
    "    gpx = gpxpy.gpx.GPX()\n",
    "    gpx.nsmap[\"gpxtrx\"] = 'http://www.garmin.com/xmlschemas/GpxExtensions/v3'\n",
    "    track = gpxpy.gpx.GPXTrack()\n",
    "    gpx.tracks.append(track)\n",
    "    segment = gpxpy.gpx.GPXTrackSegment()\n",
    "    track.segments.append(segment)\n",
    "    segment.points = [get_point(x.time, x.fft_spm) for _, x in data.iterrows()]\n",
    "    return gpx\n",
    "    \n",
    "spm_df.loc[:,\"time\"] = [timestamp + timedelta(seconds=x) for x in spm_df.index]\n",
    "with open(output_file_path, 'w+') as f:\n",
    "    f.write(get_gpx(spm_df).to_xml())"
   ]
  }
 ],
 "metadata": {
  "kernelspec": {
   "display_name": "Python 3",
   "language": "python",
   "name": "python3"
  },
  "language_info": {
   "codemirror_mode": {
    "name": "ipython",
    "version": 3
   },
   "file_extension": ".py",
   "mimetype": "text/x-python",
   "name": "python",
   "nbconvert_exporter": "python",
   "pygments_lexer": "ipython3",
   "version": "3.8.3"
  }
 },
 "nbformat": 4,
 "nbformat_minor": 4
}

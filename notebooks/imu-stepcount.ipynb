{
 "cells": [
  {
   "cell_type": "markdown",
   "metadata": {},
   "source": [
    "# Analysing steps in a short walk using acceleration and rotation\n",
    "\n",
    "In this noteboook we examine a recording from the Arduino IMU of a short walk with the aim to extract the step count, cadence and timings including ground time and step duration.\n",
    "\n",
    "We implement three techniques outlined in the paper `A comprehensive comparison of simple step counting techniques using wrist- and ankle-mounted accelerometer and gyroscope signals` by Matthew Rudy and Joseph Mahoney - [https://www.researchgate.net/publication/325451208_A_comprehensive_comparison_of_simple_step_counting_techniques_using_wrist-_and_ankle-mounted_accelerometer_and_gyroscope_signals](https://www.researchgate.net/publication/325451208_A_comprehensive_comparison_of_simple_step_counting_techniques_using_wrist-_and_ankle-mounted_accelerometer_and_gyroscope_signals).\n",
    "\n",
    "* Peak-finding\n",
    "* Fast Fourier Transform (FFT)\n",
    "* Autocorrelation\n",
    "\n",
    "Each of these methods allows us to count steps. The peak-finding method also identifies where the steps occur in the timeseries, so this in turn allows us to isolate steps and calculate such things as ground time and step duration.\n",
    "\n",
    "## The IMU\n",
    "\n",
    "The Arduino Nano inertial measurement unit gives us acceleration, measured in `g`s (`1g = 9.8m/s/s`), and rotation (angular velocity). In this notebook we demonstrate how to extract steps from either acceleration or rotation.\n",
    "\n",
    "## The data\n",
    "\n",
    "We expect a CSV file with columns for time, 3 axes of acceleration, and 3 axes of gyroscopic rotation."
   ]
  },
  {
   "cell_type": "markdown",
   "metadata": {},
   "source": [
    "## Setup"
   ]
  },
  {
   "cell_type": "code",
   "execution_count": null,
   "metadata": {},
   "outputs": [],
   "source": [
    "import pandas as pd\n",
    "import seaborn as sns\n",
    "from scipy.integrate import cumtrapz\n",
    "from scipy.signal import butter, filtfilt, periodogram, spectrogram, find_peaks\n",
    "import matplotlib.pyplot as plt\n",
    "sns.set(rc={'figure.figsize':(11, 4)})\n",
    "import numpy as np"
   ]
  },
  {
   "cell_type": "markdown",
   "metadata": {},
   "source": [
    "## Data import"
   ]
  },
  {
   "cell_type": "code",
   "execution_count": null,
   "metadata": {},
   "outputs": [],
   "source": [
    "data_file_path = \"../data/slow-walking.csv\"\n",
    "df = pd.read_csv(data_file_path, header=None)\n",
    "df.columns = [\"time\", \"aX\", \"aY\", \"aZ\", \"gX\", \"gY\", \"gZ\"]"
   ]
  },
  {
   "cell_type": "markdown",
   "metadata": {},
   "source": [
    "## Key parameters"
   ]
  },
  {
   "cell_type": "code",
   "execution_count": null,
   "metadata": {},
   "outputs": [],
   "source": [
    "# params\n",
    "fs = 1000 / 100 # Hz, sampling frequency\n",
    "total_time = df.time.max() - df.time.min()"
   ]
  },
  {
   "cell_type": "markdown",
   "metadata": {},
   "source": [
    "## Helper functions"
   ]
  },
  {
   "cell_type": "code",
   "execution_count": null,
   "metadata": {},
   "outputs": [],
   "source": [
    "def low_pass(data, fc, fs):\n",
    "    w = fc / (fs / 2) # Normalize the frequency\n",
    "    b, a = butter(5, w, 'low')\n",
    "    return filtfilt(b, a, data)\n",
    "\n",
    "def get_magnitude(data, cutoff_frequency=None, fs=None):\n",
    "    magnitude = np.sqrt((data**2).sum(axis=1))\n",
    "    if cutoff_frequency is None:\n",
    "        return magnitude\n",
    "    else:\n",
    "        return low_pass(magnitude, cutoff_frequency, fs)\n",
    "\n",
    "def peak_detection_steps(data, pos_kwargs=None, neg_kwargs=None):\n",
    "    peaks, _ = find_peaks(data, **pos_kwargs)\n",
    "    neg_peaks, _ = find_peaks(-data, **neg_kwargs)\n",
    "    sns.lineplot(x=range(len(data)), y=data)\n",
    "    sns.scatterplot(x=peaks, y=data[peaks])\n",
    "    sns.scatterplot(x=neg_peaks, y=data[neg_peaks])\n",
    "    plt.show()\n",
    "    return len(peaks)\n",
    "\n",
    "def fft_steps(data, dt, fs):\n",
    "    f, Pxx = periodogram(data, fs=fs)\n",
    "    sns.lineplot(f, Pxx)\n",
    "    plt.show()\n",
    "    return dt * f[np.argmax(Pxx)] / 1000\n",
    "\n",
    "def autocorr(x):\n",
    "    result = np.correlate(x, x, mode='same')\n",
    "    return result[:]\n",
    "\n",
    "def autocorr_steps(data):\n",
    "    corr = autocorr(data)\n",
    "    sns.lineplot(x=range(len(corr)), y=corr)\n",
    "    peaks, _ = find_peaks(corr)\n",
    "    sns.scatterplot(x=peaks, y=corr[peaks])\n",
    "    plt.show()\n",
    "    return len(peaks)"
   ]
  },
  {
   "cell_type": "markdown",
   "metadata": {},
   "source": [
    "# Measuring steps from acceleration"
   ]
  },
  {
   "cell_type": "code",
   "execution_count": null,
   "metadata": {},
   "outputs": [],
   "source": [
    "sns.lineplot(x=df.time, y=df.aX, label=\"aX\")\n",
    "sns.lineplot(x=df.time, y=df.aY, label=\"aY\")\n",
    "sns.lineplot(x=df.time, y=df.aZ, label=\"aZ\")"
   ]
  },
  {
   "cell_type": "code",
   "execution_count": null,
   "metadata": {},
   "outputs": [],
   "source": [
    "_df = df.iloc[:9]\n",
    "sns.lineplot(x=_df.time, y=_df.aX, label=\"aX\")\n",
    "sns.lineplot(x=_df.time, y=_df.aY, label=\"aY\")\n",
    "sns.lineplot(x=_df.time, y=_df.aZ, label=\"aZ\")"
   ]
  },
  {
   "cell_type": "code",
   "execution_count": null,
   "metadata": {},
   "outputs": [],
   "source": [
    "gravity_vector = _df.loc[:,[\"aX\", \"aY\", \"aZ\"]].mean()\n",
    "(gravity_vector, (gravity_vector**2).sum())"
   ]
  },
  {
   "cell_type": "code",
   "execution_count": null,
   "metadata": {},
   "outputs": [],
   "source": [
    "df.loc[:,[\"aX\", \"aY\", \"aZ\"]] = (df.loc[:,[\"aX\", \"aY\", \"aZ\"]] - gravity_vector) * 9.8"
   ]
  },
  {
   "cell_type": "code",
   "execution_count": null,
   "metadata": {},
   "outputs": [],
   "source": [
    "aMagnitude = get_magnitude(df.loc[:,[\"aX\", \"aY\", \"aZ\"]], cutoff_frequency=1.5, fs=fs)\n",
    "n_peak_steps = peak_detection_steps(\n",
    "    aMagnitude, \n",
    "    pos_kwargs={\n",
    "        \"prominence\": 2,\n",
    "        \"distance\": 3\n",
    "    }, \n",
    "    neg_kwargs={\n",
    "        \"prominence\": 1\n",
    "    }\n",
    ")\n",
    "n_fft_steps = fft_steps(aMagnitude, dt=total_time, fs=fs)\n",
    "n_autocorr_steps = autocorr_steps(aMagnitude)\n",
    "(n_peak_steps, n_fft_steps, n_autocorr_steps)"
   ]
  },
  {
   "cell_type": "markdown",
   "metadata": {},
   "source": [
    "# Measuring steps from rotation"
   ]
  },
  {
   "cell_type": "code",
   "execution_count": null,
   "metadata": {},
   "outputs": [],
   "source": [
    "sns.lineplot(x=df.time, y=df.gX, label=\"gX\")\n",
    "sns.lineplot(x=df.time, y=df.gY, label=\"gY\")\n",
    "sns.lineplot(x=df.time, y=df.gZ, label=\"gZ\")"
   ]
  },
  {
   "cell_type": "code",
   "execution_count": null,
   "metadata": {},
   "outputs": [],
   "source": [
    "gMagnitude = get_magnitude(df.loc[:,[\"gX\", \"gY\", \"gZ\"]], cutoff_frequency=1.5, fs=fs)\n",
    "n_peak_steps = peak_detection_steps(\n",
    "    gMagnitude, \n",
    "    pos_kwargs={\n",
    "        \"prominence\": 2,\n",
    "        \"distance\": 3\n",
    "    }, \n",
    "    neg_kwargs={\n",
    "        \"prominence\": 1\n",
    "    }\n",
    ")\n",
    "n_fft_steps = fft_steps(gMagnitude, dt=total_time, fs=fs)\n",
    "n_autocorr_steps = autocorr_steps(gMagnitude)\n",
    "(n_peak_steps, n_fft_steps, n_autocorr_steps)"
   ]
  }
 ],
 "metadata": {
  "kernelspec": {
   "display_name": "Python 3",
   "language": "python",
   "name": "python3"
  },
  "language_info": {
   "codemirror_mode": {
    "name": "ipython",
    "version": 2
   },
   "file_extension": ".py",
   "mimetype": "text/x-python",
   "name": "python",
   "nbconvert_exporter": "python",
   "pygments_lexer": "ipython2",
   "version": "2.7.16"
  }
 },
 "nbformat": 4,
 "nbformat_minor": 4
}

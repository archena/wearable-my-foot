{
 "cells": [
  {
   "cell_type": "markdown",
   "metadata": {},
   "source": [
    "# Analysing steps in a short walk using acceleration and rotation\n",
    "\n",
    "In this noteboook we examine a recording from the Arduino IMU of a short walk with the aim to extract the step count, cadence and timings including ground time and step duration.\n",
    "\n",
    "We implement three techniques outlined in the paper `A comprehensive comparison of simple step counting techniques using wrist- and ankle-mounted accelerometer and gyroscope signals` by Matthew Rudy and Joseph Mahoney - [https://www.researchgate.net/publication/325451208_A_comprehensive_comparison_of_simple_step_counting_techniques_using_wrist-_and_ankle-mounted_accelerometer_and_gyroscope_signals](https://www.researchgate.net/publication/325451208_A_comprehensive_comparison_of_simple_step_counting_techniques_using_wrist-_and_ankle-mounted_accelerometer_and_gyroscope_signals).\n",
    "\n",
    "* Peak-finding\n",
    "* Fast Fourier Transform (FFT)\n",
    "* Autocorrelation\n",
    "\n",
    "Each of these methods allows us to count steps. The peak-finding method also identifies where the steps occur in the timeseries, so this in turn allows us to isolate steps and calculate such things as ground time and step duration.\n",
    "\n",
    "## The IMU\n",
    "\n",
    "The Arduino Nano inertial measurement unit gives us acceleration, measured in `g`s (`1g = 9.8m/s/s`), and rotation (angular velocity). In this notebook we demonstrate how to extract steps from either acceleration or rotation.\n",
    "\n",
    "## The data\n",
    "\n",
    "We expect a CSV file with columns for time, 3 axes of acceleration, and 3 axes of gyroscopic rotation."
   ]
  },
  {
   "cell_type": "markdown",
   "metadata": {},
   "source": [
    "## Setup"
   ]
  },
  {
   "cell_type": "code",
   "execution_count": null,
   "metadata": {},
   "outputs": [],
   "source": [
    "import pandas as pd\n",
    "import seaborn as sns\n",
    "from scipy.integrate import cumtrapz\n",
    "from scipy.signal import butter, filtfilt, periodogram, spectrogram, find_peaks\n",
    "from sklearn.decomposition import PCA\n",
    "import matplotlib.pyplot as plt\n",
    "sns.set(rc={'figure.figsize':(11, 4)})\n",
    "import numpy as np\n",
    "import gpxpy\n",
    "from xml.etree import ElementTree as ET\n",
    "from datetime import timedelta\n",
    "from tqdm import tqdm_notebook\n",
    "tqdm_notebook()"
   ]
  },
  {
   "cell_type": "markdown",
   "metadata": {},
   "source": [
    "## Data import"
   ]
  },
  {
   "cell_type": "code",
   "execution_count": null,
   "metadata": {},
   "outputs": [],
   "source": [
    "data_file_path = \"../data/WearableMyFoot backgarden 1km - side orientation.csv\"\n",
    "# data_file_path = \"../data/WearableMyFoot 0.3km backgarden run (device on foot).csv\"\n",
    "output_file_path = \"../data/WearableMyFoot backgarden 1km - side orientation.gpx\"\n",
    "df = pd.read_csv(data_file_path)\n",
    "df.columns = [\"time\", \"aX\", \"aY\", \"aZ\", \"gX\", \"gY\", \"gZ\"]\n",
    "df.time = df.time - df.time.min()\n",
    "df"
   ]
  },
  {
   "cell_type": "markdown",
   "metadata": {},
   "source": [
    "## Key parameters"
   ]
  },
  {
   "cell_type": "code",
   "execution_count": null,
   "metadata": {},
   "outputs": [],
   "source": [
    "# params\n",
    "fs = 1000 / 10 # Hz, sampling frequency\n",
    "timestamp = pd.to_datetime(\"2020-09-10T19:01:07\")\n",
    "total_time = df.time.max() - df.time.min()"
   ]
  },
  {
   "cell_type": "markdown",
   "metadata": {},
   "source": [
    "## Helper functions"
   ]
  },
  {
   "cell_type": "code",
   "execution_count": null,
   "metadata": {},
   "outputs": [],
   "source": [
    "def get_time_period(a, b):\n",
    "    \"\"\"\n",
    "    a, b -- time in seconds\n",
    "    \"\"\"\n",
    "    return df.loc[(df.time >= a * 1000) & (df.time < b * 1000)]\n",
    "\n",
    "def band_pass(data, fc_low, fc_high, fs):\n",
    "    w_low = fc_low / (fs / 2) # Normalize the frequency\n",
    "    w_high = fc_high / (fs / 2) # Normalize the frequency\n",
    "    b, a = butter(5, [w_low, w_high], 'bandpass')\n",
    "    return filtfilt(b, a, data)\n",
    "\n",
    "def high_pass(data, fc_low, fs):\n",
    "    w_low = fc_low / (fs / 2) # Normalize the frequency\n",
    "    b, a = butter(5, w_low, 'highpass')\n",
    "    return filtfilt(b, a, data)\n",
    "\n",
    "def low_pass(data, fc_high, fs):\n",
    "    w_high = fc_high / (fs / 2) # Normalize the frequency\n",
    "    b, a = butter(5, w_high, 'lowpass')\n",
    "    return filtfilt(b, a, data)\n",
    "\n",
    "def get_magnitude(data, fc_low=None, fc_high=None, fs=None):\n",
    "    magnitude = np.sqrt((data**2).sum(axis=1))\n",
    "    if fc_low is not None and fc_high is not None:\n",
    "        return band_pass(magnitude, fc_low, fc_high, fs)\n",
    "    elif fc_low is not None:\n",
    "        return high_pass(magnitude, fc_low, fs)\n",
    "    elif fc_high is not None:\n",
    "        return low_pass(magnitude, fc_high, fs)\n",
    "    else:\n",
    "        return magnitude\n",
    "    \n",
    "def peak_detection_steps(data, pos_kwargs=None, neg_kwargs=None, plot=False):\n",
    "    peaks, _ = find_peaks(data, **pos_kwargs)\n",
    "    neg_peaks, _ = find_peaks(-data, **neg_kwargs)\n",
    "    if plot:\n",
    "        sns.lineplot(x=range(len(data)), y=data)\n",
    "        sns.scatterplot(x=peaks, y=data[peaks])\n",
    "        sns.scatterplot(x=neg_peaks, y=data[neg_peaks])\n",
    "        plt.show()\n",
    "    return max(len(peaks), len(neg_peaks))\n",
    "\n",
    "def fft_dominant_freq(data, fs, plot=False):\n",
    "    f, Pxx = periodogram(data, fs=fs)\n",
    "    if plot:\n",
    "        sns.lineplot(f, Pxx)\n",
    "        plt.xlim([0.0,10.0])\n",
    "        plt.show()\n",
    "    return f[np.argmax(Pxx[10:])]\n",
    "\n",
    "def fft_steps(data, dt, fs, plot=False):\n",
    "    return dt * fft_dominant_freq(data, fs, plot) / 1000\n",
    "\n",
    "def autocorr(x):\n",
    "    result = np.correlate(x, x, mode='full')\n",
    "    return result[:int(len(result)/2)]\n",
    "\n",
    "def autocorr_steps(data, plot=False):\n",
    "    corr = autocorr(data)\n",
    "    peaks, _ = find_peaks(corr)\n",
    "    if plot:\n",
    "        sns.lineplot(x=range(len(corr)), y=corr)\n",
    "        sns.scatterplot(x=peaks, y=corr[peaks])\n",
    "        plt.show()\n",
    "    return len(peaks)\n",
    "\n",
    "def to_steps_per_minute(step_count, dt):\n",
    "    \"\"\"\n",
    "    dt -- time in seconds\n",
    "    \"\"\"\n",
    "    return step_count / dt * 60\n",
    "\n",
    "def get_spm_for_period(a, b, columns, fc_low=None, fc_high=None, peak_detection_kwargs={}):\n",
    "    frame = get_time_period(a, b)\n",
    "    dt = (frame.time.max() - frame.time.min()) / 1000.0\n",
    "    aMagnitude = get_magnitude(frame.loc[:,columns], fc_low=fc_low, fc_high=fc_high, fs=fs)\n",
    "    n_peak_steps = peak_detection_steps(\n",
    "        aMagnitude, \n",
    "        **peak_detection_kwargs\n",
    "    )\n",
    "    dominant_freq = fft_dominant_freq(aMagnitude, fs=fs)\n",
    "    n_autocorr_steps = autocorr_steps(aMagnitude)\n",
    "    return pd.Series({\n",
    "        \"peak_detection_spm\": to_steps_per_minute(n_peak_steps, dt), \n",
    "        \"fft_spm\": dominant_freq * 60, \n",
    "        \"autocorrelation_spm\": to_steps_per_minute(n_autocorr_steps, dt), \n",
    "    })\n",
    "\n",
    "def get_spm(data, a, b, fc_low=None, fc_high=None, peak_detection_kwargs={}, peak_detection=True, fft=True, autocorrelation=True):\n",
    "    frame = get_time_period(a, b)\n",
    "    dt = (frame.time.max() - frame.time.min()) / 1000.0\n",
    "    _data = data.loc[frame.index].values\n",
    "    if fc_low is not None:\n",
    "        _data = high_pass(_data, fc_low, fs)\n",
    "    if fc_high is not None:\n",
    "        _data = low_pass(_data, fc_high, fs)\n",
    "        \n",
    "#     sns.lineplot(x=range(len(_data)), y=_data)\n",
    "    n_peak_steps = peak_detection_steps(\n",
    "        _data, \n",
    "        **peak_detection_kwargs\n",
    "    ) if peak_detection else 0.0\n",
    "    dominant_freq = fft_dominant_freq(_data, fs=fs) if fft else 0.0\n",
    "    n_autocorr_steps = autocorr_steps(_data) if autocorrelation else 0.0\n",
    "    return pd.Series({\n",
    "        \"peak_detection_spm\": to_steps_per_minute(n_peak_steps, dt), \n",
    "        \"fft_spm\": dominant_freq * 60, \n",
    "        \"autocorrelation_spm\": to_steps_per_minute(n_autocorr_steps, dt), \n",
    "    })\n",
    "\n",
    "def scalar_projection(u, v):\n",
    "    \"\"\"\n",
    "    project u on v\n",
    "    \"\"\"\n",
    "    v_norm = np.sqrt(sum(v**2))\n",
    "    return (np.dot(u, v)/v_norm)\n",
    "\n"
   ]
  },
  {
   "cell_type": "markdown",
   "metadata": {},
   "source": [
    "# Measuring steps from acceleration"
   ]
  },
  {
   "cell_type": "code",
   "execution_count": null,
   "metadata": {},
   "outputs": [],
   "source": [
    "sns.lineplot(x=df.time, y=df.aX, label=\"aX\")\n",
    "sns.lineplot(x=df.time, y=df.aY, label=\"aY\")\n",
    "sns.lineplot(x=df.time, y=df.aZ, label=\"aZ\")"
   ]
  },
  {
   "cell_type": "code",
   "execution_count": null,
   "metadata": {},
   "outputs": [],
   "source": [
    "_df = df.iloc[4125:4200].loc[:, [\"aX\", \"aY\", \"aZ\"]]\n",
    "_df.plot()"
   ]
  },
  {
   "cell_type": "code",
   "execution_count": null,
   "metadata": {},
   "outputs": [],
   "source": [
    "fig = plt.figure()\n",
    "ax = fig.add_subplot(111, projection='3d')\n",
    "\n",
    "# Plot the values\n",
    "ax.scatter(_df.aX, _df.aY, _df.aZ, c = 'b', marker='o')\n",
    "ax.set_xlabel('X-axis')\n",
    "ax.set_ylabel('Y-axis')\n",
    "ax.set_zlabel('Z-axis')\n",
    "\n",
    "plt.show()"
   ]
  },
  {
   "cell_type": "code",
   "execution_count": null,
   "metadata": {},
   "outputs": [],
   "source": [
    "def get_pca(data):\n",
    "    pca = PCA()\n",
    "\n",
    "    pca.fit(data)\n",
    "    print(pca.explained_variance_ratio_)\n",
    "\n",
    "    return pd.Series(np.reshape(pca.components_, (9,)), index=[\"x1\", \"y1\", \"z1\", \"x2\", \"y2\", \"z2\", \"x3\", \"y3\", \"z3\"])\n",
    "\n",
    "step = 75\n",
    "\n",
    "components = pd.DataFrame([get_pca(df.iloc[a:a+step].loc[:, [\"aX\", \"aY\", \"aZ\"]]) for a in np.arange(0,df.shape[0],step)])\n",
    "components.loc[:, [\"x1\", \"y1\", \"z1\"]].plot()"
   ]
  },
  {
   "cell_type": "code",
   "execution_count": null,
   "metadata": {},
   "outputs": [],
   "source": [
    "get_pca(df.loc[:, [\"aX\", \"aY\", \"aZ\"]])"
   ]
  },
  {
   "cell_type": "code",
   "execution_count": null,
   "metadata": {},
   "outputs": [],
   "source": [
    "_df = df.iloc[:9]\n",
    "sns.lineplot(x=_df.time, y=_df.aX, label=\"aX\")\n",
    "sns.lineplot(x=_df.time, y=_df.aY, label=\"aY\")\n",
    "sns.lineplot(x=_df.time, y=_df.aZ, label=\"aZ\")"
   ]
  },
  {
   "cell_type": "code",
   "execution_count": null,
   "metadata": {},
   "outputs": [],
   "source": [
    "gravity_vector = _df.loc[:,[\"aX\", \"aY\", \"aZ\"]].mean()\n",
    "(gravity_vector, (gravity_vector**2).sum())"
   ]
  },
  {
   "cell_type": "code",
   "execution_count": null,
   "metadata": {},
   "outputs": [],
   "source": [
    "df.loc[:,[\"aX\", \"aY\", \"aZ\"]] = (df.loc[:,[\"aX\", \"aY\", \"aZ\"]] - gravity_vector) * 9.8"
   ]
  },
  {
   "cell_type": "code",
   "execution_count": null,
   "metadata": {},
   "outputs": [],
   "source": [
    "df.loc[:,[\"pca0\", \"pca1\", \"pca2\"]] = PCA().fit_transform(df.loc[:,[\"aX\", \"aY\", \"aZ\"]])"
   ]
  },
  {
   "cell_type": "code",
   "execution_count": null,
   "metadata": {},
   "outputs": [],
   "source": [
    "vertical = df.loc[:,[\"aX\", \"aY\", \"aZ\"]].apply(scalar_projection, v=gravity_vector, axis=1)"
   ]
  },
  {
   "cell_type": "code",
   "execution_count": null,
   "metadata": {},
   "outputs": [],
   "source": [
    "# f, t, Sxx = spectrogram(get_magnitude(df.loc[:,[\"aX\", \"aY\", \"aZ\"]], fs=fs), fs)\n",
    "f, t, Sxx = spectrogram(df.pca2, fs)\n",
    "# f, t, Sxx = spectrogram(vertical, fs)\n",
    "plt.pcolormesh(t, f, Sxx, shading='gouraud')\n",
    "plt.ylabel('Frequency [Hz]')\n",
    "plt.xlabel('Time [sec]')\n",
    "plt.ylim([0,10])\n",
    "plt.show()"
   ]
  },
  {
   "cell_type": "code",
   "execution_count": null,
   "metadata": {},
   "outputs": [],
   "source": [
    "# aMagnitude = get_magnitude(df.loc[:,[\"aX\", \"aY\", \"aZ\"]], fc_low=0.3, fc_high=None, fs=fs)\n",
    "aMagnitude = high_pass(df.pca0, fc_low=0.3, fs=fs)\n",
    "# aMagnitude = low_pass(vertical, fc_high=1.5, fs=fs)\n",
    "# aMagnitude = high_pass(aMagnitude, fc_low=1.0, fs=fs)\n",
    "# aMagnitude = band_pass(vertical, fc_low=0.5, fc_high=2.0, fs=fs)\n",
    "# aMagnitude = vertical[4000:4500]\n",
    "n_peak_steps = peak_detection_steps(\n",
    "    aMagnitude, \n",
    "    pos_kwargs={\n",
    "        \"prominence\": 2,\n",
    "        \"distance\": 20,\n",
    "        \"height\": (35, None)\n",
    "    }, \n",
    "    neg_kwargs={\n",
    "        \"prominence\": 2,\n",
    "        \"distance\": 20,\n",
    "        \"height\": (35, None)\n",
    "    },\n",
    "    plot=True\n",
    ")\n",
    "n_fft_steps = fft_steps(aMagnitude, dt=total_time, fs=fs, plot=True)\n",
    "n_autocorr_steps = autocorr_steps(aMagnitude, plot=True)\n",
    "print(n_peak_steps, n_fft_steps, n_autocorr_steps)\n",
    "print(\n",
    "    to_steps_per_minute(n_peak_steps, total_time / 1000), \n",
    "    to_steps_per_minute(n_fft_steps, total_time / 1000), \n",
    "    to_steps_per_minute(n_autocorr_steps, total_time / 1000), \n",
    ")"
   ]
  },
  {
   "cell_type": "code",
   "execution_count": null,
   "metadata": {},
   "outputs": [],
   "source": [
    "a = 25000\n",
    "peak_detection_steps(\n",
    "    df.pca0[a:a+500].values, \n",
    "    pos_kwargs={\n",
    "#         \"prominence\": 20,\n",
    "        \"distance\": 20,\n",
    "        \"height\": (35, None)\n",
    "    }, \n",
    "    neg_kwargs={\n",
    "        \"distance\": 20,\n",
    "        \"height\": (35, None)\n",
    "    },\n",
    "    plot=True\n",
    ")\n",
    "autocorr_steps(df.pca0[a:a+500].values, plot=True)"
   ]
  },
  {
   "cell_type": "code",
   "execution_count": null,
   "metadata": {},
   "outputs": [],
   "source": [
    "peak_detection_kwargs = {\n",
    "    \"pos_kwargs\": {\n",
    "        \"prominence\": 20,\n",
    "        \"distance\": 20,\n",
    "        \"height\": (35, None)\n",
    "    }, \n",
    "    \"neg_kwargs\": {\n",
    "        \"prominence\": 20,\n",
    "        \"distance\": 20,\n",
    "        \"height\": (35, None)\n",
    "    },\n",
    "}\n",
    "\n",
    "spms = []\n",
    "dt = 10\n",
    "step = 3.0\n",
    "for a in tqdm_notebook(np.arange(0, df.time.max() / 1000, step)):\n",
    "    b = a + dt\n",
    "    spm = get_spm(df.pca0, a, b, fc_low=None, fc_high=None, peak_detection_kwargs=peak_detection_kwargs, autocorrelation=False, fft=False)\n",
    "#     spm = get_spm(df.pca0, a, b, fc_low=None, fc_high=4.0, peak_detection_kwargs=peak_detection_kwargs, autocorrelation=True, fft=False)\n",
    "    spm.name = a\n",
    "    spms += [spm]\n",
    "#     break\n",
    "spm_df = pd.DataFrame(spms)\n",
    "spm_df.plot()\n",
    "spm_df.describe()"
   ]
  },
  {
   "cell_type": "markdown",
   "metadata": {},
   "source": [
    "# Measuring steps from rotation"
   ]
  },
  {
   "cell_type": "code",
   "execution_count": null,
   "metadata": {},
   "outputs": [],
   "source": [
    "sns.lineplot(x=df.time, y=df.gX, label=\"gX\")\n",
    "sns.lineplot(x=df.time, y=df.gY, label=\"gY\")\n",
    "sns.lineplot(x=df.time, y=df.gZ, label=\"gZ\")"
   ]
  },
  {
   "cell_type": "code",
   "execution_count": null,
   "metadata": {},
   "outputs": [],
   "source": [
    "f, t, Sxx = spectrogram(get_magnitude(df.loc[:,[\"gX\", \"gY\", \"gZ\"]], fs=fs), fs)\n",
    "plt.pcolormesh(t, f, Sxx, shading='gouraud')\n",
    "plt.ylabel('Frequency [Hz]')\n",
    "plt.xlabel('Time [sec]')\n",
    "plt.show()"
   ]
  },
  {
   "cell_type": "code",
   "execution_count": null,
   "metadata": {},
   "outputs": [],
   "source": [
    "gMagnitude = get_magnitude(df.loc[:,[\"gX\", \"gY\", \"gZ\"]], fc_low=0.5, fc_high=3.0, fs=fs)\n",
    "n_peak_steps = peak_detection_steps(\n",
    "    gMagnitude, \n",
    "    pos_kwargs={\n",
    "        \"prominence\": 2,\n",
    "        \"distance\": 3\n",
    "    }, \n",
    "    neg_kwargs={\n",
    "        \"prominence\": 1\n",
    "    },\n",
    "    plot=True\n",
    ")\n",
    "n_fft_steps = fft_steps(gMagnitude, dt=1000, fs=fs, plot=True)\n",
    "n_autocorr_steps = autocorr_steps(gMagnitude, plot=True)\n",
    "print(n_peak_steps, n_fft_steps, n_autocorr_steps)\n",
    "print(\n",
    "    to_steps_per_minute(n_peak_steps, total_time / 1000), \n",
    "    to_steps_per_minute(n_fft_steps, total_time / 1000), \n",
    "    to_steps_per_minute(n_autocorr_steps, total_time / 1000), \n",
    ")"
   ]
  },
  {
   "cell_type": "code",
   "execution_count": null,
   "metadata": {},
   "outputs": [],
   "source": [
    "peak_detection_kwargs = {\n",
    "    \"pos_kwargs\": {\n",
    "        \"height\": (50, None)\n",
    "    }, \n",
    "    \"neg_kwargs\": {\n",
    "        \"prominence\": 1\n",
    "    },\n",
    "}\n",
    "\n",
    "spms = []\n",
    "dt = 3\n",
    "for a in np.arange(0, df.time.max() / 1000, dt):\n",
    "    b = a + dt\n",
    "    spm = get_spm_for_period(a, b, [\"gX\", \"gY\", \"gZ\"], fc_low=0.5, fc_high=2.0, peak_detection_kwargs=peak_detection_kwargs)\n",
    "    spm.name = a\n",
    "    spms += [spm]\n",
    "spm_df = pd.DataFrame(spms)\n",
    "spm_df.plot()\n",
    "spm_df.describe()\n"
   ]
  },
  {
   "cell_type": "markdown",
   "metadata": {},
   "source": [
    "# Export GPX\n",
    "Contains a track with cadence"
   ]
  },
  {
   "cell_type": "code",
   "execution_count": null,
   "metadata": {},
   "outputs": [],
   "source": [
    "def get_cadence_extension(cadence):\n",
    "    prefix = \"gpxtrx:\"\n",
    "#     prefix = \"{http://www.garmin.com/xmlschemas/TrackPointExtension/v1}\"\n",
    "    element = ET.Element(f\"{prefix}TrackPointExtension\")\n",
    "    cadence_element = ET.SubElement(element, f\"{prefix}cad\")\n",
    "    # Schema only permits integers up to 254\n",
    "    cadence_element.text = str(int(cadence if cadence <= 254 else 254))\n",
    "    return element\n",
    "\n",
    "def get_point(time, cadence):\n",
    "    extensions = [get_cadence_extension(cadence)]\n",
    "    point = gpxpy.gpx.GPXTrackPoint()\n",
    "    point.extensions = extensions\n",
    "    point.time = time\n",
    "    return point\n",
    "\n",
    "def get_gpx(data):\n",
    "    \"\"\"\n",
    "    data -- pandas DataFrame with time and cadence fields\n",
    "    \"\"\"\n",
    "    gpx = gpxpy.gpx.GPX()\n",
    "    gpx.nsmap[\"gpxtrx\"] = 'http://www.garmin.com/xmlschemas/GpxExtensions/v3'\n",
    "    track = gpxpy.gpx.GPXTrack()\n",
    "    gpx.tracks.append(track)\n",
    "    segment = gpxpy.gpx.GPXTrackSegment()\n",
    "    track.segments.append(segment)\n",
    "    segment.points = [get_point(x.time, x.peak_detection_spm) for _, x in data.iterrows()]\n",
    "    return gpx\n",
    "    \n",
    "spm_df.loc[:,\"time\"] = [timestamp + timedelta(seconds=x) for x in spm_df.index]\n",
    "with open(output_file_path, 'w+') as f:\n",
    "    f.write(get_gpx(spm_df).to_xml())"
   ]
  },
  {
   "cell_type": "code",
   "execution_count": null,
   "metadata": {},
   "outputs": [],
   "source": []
  }
 ],
 "metadata": {
  "kernelspec": {
   "display_name": "Python 3",
   "language": "python",
   "name": "python3"
  },
  "language_info": {
   "codemirror_mode": {
    "name": "ipython",
    "version": 3
   },
   "file_extension": ".py",
   "mimetype": "text/x-python",
   "name": "python",
   "nbconvert_exporter": "python",
   "pygments_lexer": "ipython3",
   "version": "3.8.3"
  }
 },
 "nbformat": 4,
 "nbformat_minor": 4
}

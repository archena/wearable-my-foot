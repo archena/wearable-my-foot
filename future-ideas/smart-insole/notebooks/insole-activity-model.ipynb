{
 "cells": [
  {
   "cell_type": "markdown",
   "metadata": {
    "ein.tags": "worksheet-0",
    "slideshow": {
     "slide_type": "-"
    }
   },
   "source": [
    "# Smart insole activity modelling\n",
    "\n",
    "In this notebook we analyse some time series data taken from the sensors on the insole and attempt to fit a predictive model to determine what kind of activity is being performed.\n",
    "\n",
    "## Overview\n",
    "### The data\n",
    "\n",
    "The [../data](data) consists of timestamped sensor readings from the device. Timestamps are in ISO-8601 datetime format and sensor readings are integer values representing pressure (force) in kg. Every second the device logs a reading from all of its sensors.\n",
    "\n",
    "Example: `2019-11-18T10:00:00.001,10,15,11,25`\n",
    "\n",
    "Which is `10 kg`, `15 kg`, `11 kg` and `25 kg` from sensors 1-4 respectively, at timestamp `2019-11-18T10:00:00.001`.\n",
    "\n",
    "### Analysis\n",
    "\n",
    "We begin by developing some general techniques for locating trends, correlations and periodicity in the sensor data, and this will lead us to make appropriate modelling choices. We also want to uncover statistical distributions in the data which will enable us to generate fake data that looks similar; fake data is useful for integration testing."
   ]
  },
  {
   "cell_type": "code",
   "execution_count": null,
   "metadata": {
    "autoscroll": false,
    "ein.hycell": false,
    "ein.tags": "worksheet-0",
    "slideshow": {
     "slide_type": "-"
    }
   },
   "outputs": [],
   "source": [
    "import pandas as pd\n",
    "import matplotlib.pyplot as plt\n",
    "import seaborn as sns\n",
    "sns.set(rc={'figure.figsize':(11, 4)})"
   ]
  },
  {
   "cell_type": "markdown",
   "metadata": {
    "ein.tags": "worksheet-0",
    "slideshow": {
     "slide_type": "-"
    }
   },
   "source": [
    "# Data loading and cleaning\n",
    "\n",
    "We load the data as a timeseries by specifying the first column as the index and parsing it as a date/time."
   ]
  },
  {
   "cell_type": "code",
   "execution_count": null,
   "metadata": {
    "autoscroll": false,
    "ein.hycell": false,
    "ein.tags": "worksheet-0",
    "slideshow": {
     "slide_type": "-"
    }
   },
   "outputs": [],
   "source": [
    "pressure_data = pd  \\\n",
    "    .read_csv(\"../data/sample.csv\", index_col=0, parse_dates=[0]) \\\n",
    "    .query('date != \"NaT\"')"
   ]
  },
  {
   "cell_type": "markdown",
   "metadata": {
    "ein.tags": "worksheet-0",
    "slideshow": {
     "slide_type": "-"
    }
   },
   "source": [
    "# Data exploration"
   ]
  },
  {
   "cell_type": "code",
   "execution_count": null,
   "metadata": {
    "autoscroll": false,
    "ein.hycell": false,
    "ein.tags": "worksheet-0",
    "slideshow": {
     "slide_type": "-"
    }
   },
   "outputs": [],
   "source": [
    "pressure_data.dtypes"
   ]
  },
  {
   "cell_type": "code",
   "execution_count": null,
   "metadata": {
    "autoscroll": false,
    "ein.hycell": false,
    "ein.tags": "worksheet-0",
    "slideshow": {
     "slide_type": "-"
    }
   },
   "outputs": [],
   "source": [
    "pressure_data.head()"
   ]
  },
  {
   "cell_type": "markdown",
   "metadata": {},
   "source": [
    "## Plot all pressure sensor readings"
   ]
  },
  {
   "cell_type": "code",
   "execution_count": null,
   "metadata": {
    "autoscroll": false,
    "ein.hycell": false,
    "ein.tags": "worksheet-0",
    "slideshow": {
     "slide_type": "-"
    }
   },
   "outputs": [],
   "source": [
    "pressure_data.plot()"
   ]
  },
  {
   "cell_type": "markdown",
   "metadata": {},
   "source": [
    "## Count steps\n",
    "\n",
    "First, the naïve method for counting steps is based on looking for peaks in one of the sensors."
   ]
  },
  {
   "cell_type": "code",
   "execution_count": null,
   "metadata": {
    "autoscroll": false,
    "ein.hycell": false,
    "ein.tags": "worksheet-0",
    "slideshow": {
     "slide_type": "-"
    }
   },
   "outputs": [],
   "source": [
    "def count_steps_naive(dataframe):\n",
    "    column = \"p1\"\n",
    "    target_pressure = max(dataframe[column])\n",
    "    return dataframe[dataframe[column] == target_pressure][column] \\\n",
    "        .count()\n",
    "\n",
    "count_steps_naive(pressure_data)"
   ]
  },
  {
   "cell_type": "markdown",
   "metadata": {},
   "source": [
    "A better approach can be found in this paper: https://ieeexplore.ieee.org/document/7405425\n",
    "\n",
    "We need the average pressure as well as the rate of change in average pressure."
   ]
  },
  {
   "cell_type": "code",
   "execution_count": null,
   "metadata": {},
   "outputs": [],
   "source": [
    "p_avg = pressure_data.mean(axis=1)\n",
    "p_avg.plot()"
   ]
  },
  {
   "cell_type": "code",
   "execution_count": null,
   "metadata": {
    "autoscroll": false,
    "ein.hycell": false,
    "ein.tags": "worksheet-0",
    "slideshow": {
     "slide_type": "-"
    }
   },
   "outputs": [],
   "source": [
    "p_diff = p_avg.diff()\n",
    "p_diff.plot()"
   ]
  },
  {
   "cell_type": "code",
   "execution_count": null,
   "metadata": {},
   "outputs": [],
   "source": [
    "t_max = pressure_data.index.max()\n",
    "pressure_data[pressure_data.index == t_max]"
   ]
  },
  {
   "cell_type": "code",
   "execution_count": null,
   "metadata": {},
   "outputs": [],
   "source": [
    "def count_steps(dataframe, low_threshold=0, high_threshold=4):\n",
    "    p_avg = dataframe.mean(axis=1)\n",
    "    p_diff = p_avg.diff()\n",
    "\n",
    "    status = 0\n",
    "    step_count = 0\n",
    "    for p_diff_t in p_diff:\n",
    "        if p_diff_t < low_threshold:\n",
    "            if status == 1:\n",
    "                step_count += 1\n",
    "            status = -1\n",
    "        elif p_diff_t > high_threshold:\n",
    "            status = 1\n",
    "    return step_count\n",
    "\n",
    "count_steps(pressure_data)"
   ]
  },
  {
   "cell_type": "markdown",
   "metadata": {},
   "source": [
    "## Count cadence"
   ]
  },
  {
   "cell_type": "code",
   "execution_count": null,
   "metadata": {},
   "outputs": [],
   "source": [
    "def calculate_cadence(dataframe):\n",
    "    duration = (dataframe.index.max() - dataframe.index.min()).seconds\n",
    "    return count_steps(dataframe) / duration\n",
    "\n",
    "calculate_cadence(pressure_data)"
   ]
  },
  {
   "cell_type": "code",
   "execution_count": null,
   "metadata": {},
   "outputs": [],
   "source": [
    "(pressure_data.index.max() - pressure_data.index.min()).seconds"
   ]
  },
  {
   "cell_type": "code",
   "execution_count": null,
   "metadata": {},
   "outputs": [],
   "source": []
  }
 ],
 "metadata": {
  "kernelspec": {
   "display_name": "Python 2",
   "language": "python",
   "name": "python2"
  },
  "language_info": {
   "codemirror_mode": {
    "name": "ipython",
    "version": 2
   },
   "file_extension": ".py",
   "mimetype": "text/x-python",
   "name": "python",
   "nbconvert_exporter": "python",
   "pygments_lexer": "ipython2",
   "version": "2.7.16"
  },
  "name": "activity-model.ipynb"
 },
 "nbformat": 4,
 "nbformat_minor": 2
}
